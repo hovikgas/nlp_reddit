{
 "cells": [
  {
   "cell_type": "markdown",
   "metadata": {},
   "source": [
    "# Classification of the /r/ADHD and /r/Anxiety SubReddits"
   ]
  },
  {
   "cell_type": "markdown",
   "metadata": {},
   "source": [
    "### Importing the subreddits through the PushShift API"
   ]
  },
  {
   "cell_type": "code",
   "execution_count": 16,
   "metadata": {},
   "outputs": [],
   "source": [
    "import requests, time, csv, json, re\n",
    "import pandas as pd"
   ]
  },
  {
   "cell_type": "code",
   "execution_count": 17,
   "metadata": {},
   "outputs": [],
   "source": [
    "url = 'https://api.pushshift.io/reddit/search/submission'"
   ]
  },
  {
   "cell_type": "code",
   "execution_count": 18,
   "metadata": {},
   "outputs": [],
   "source": [
    "params = {'subreddit':'adhd,anxiety',\n",
    "          'size':2000,\n",
    "         }"
   ]
  },
  {
   "cell_type": "code",
   "execution_count": 19,
   "metadata": {},
   "outputs": [],
   "source": [
    "response = requests.get(url, params=params)"
   ]
  },
  {
   "cell_type": "code",
   "execution_count": 20,
   "metadata": {},
   "outputs": [
    {
     "data": {
      "text/plain": [
       "200"
      ]
     },
     "execution_count": 20,
     "metadata": {},
     "output_type": "execute_result"
    }
   ],
   "source": [
    "response.status_code"
   ]
  },
  {
   "cell_type": "code",
   "execution_count": 22,
   "metadata": {},
   "outputs": [
    {
     "data": {
      "text/plain": [
       "{'author': 'PupperinoSuprimo',\n",
       " 'author_flair_css_class': None,\n",
       " 'author_flair_richtext': [],\n",
       " 'author_flair_text': None,\n",
       " 'author_flair_type': 'text',\n",
       " 'author_fullname': 't2_2qy0fny9',\n",
       " 'author_patreon_flair': False,\n",
       " 'can_mod_post': False,\n",
       " 'contest_mode': False,\n",
       " 'created_utc': 1554338785,\n",
       " 'domain': 'self.Anxiety',\n",
       " 'full_link': 'https://www.reddit.com/r/Anxiety/comments/b964c6/if_youll_never_really_know_let_that_damn_thought/',\n",
       " 'gildings': {'gid_1': 0, 'gid_2': 0, 'gid_3': 0},\n",
       " 'id': 'b964c6',\n",
       " 'is_crosspostable': True,\n",
       " 'is_meta': False,\n",
       " 'is_original_content': False,\n",
       " 'is_reddit_media_domain': False,\n",
       " 'is_robot_indexable': True,\n",
       " 'is_self': True,\n",
       " 'is_video': False,\n",
       " 'link_flair_background_color': '',\n",
       " 'link_flair_richtext': [],\n",
       " 'link_flair_text_color': 'dark',\n",
       " 'link_flair_type': 'text',\n",
       " 'locked': False,\n",
       " 'media_only': False,\n",
       " 'no_follow': True,\n",
       " 'num_comments': 0,\n",
       " 'num_crossposts': 0,\n",
       " 'over_18': False,\n",
       " 'parent_whitelist_status': 'house_only',\n",
       " 'permalink': '/r/Anxiety/comments/b964c6/if_youll_never_really_know_let_that_damn_thought/',\n",
       " 'pinned': False,\n",
       " 'pwls': 1,\n",
       " 'retrieved_on': 1554338785,\n",
       " 'score': 1,\n",
       " 'selftext': 'Lately, this has become a sort of mantra I\\'ve started using whenever I catch myself getting caught up and anxious over \"what-ifs\". \\n\\nA huge part of anxiety is obsessing over hypothetical situations that you\\'ll likely never confirm or disprove. You worry about what someone thought about you, or how they took that comment you made at lunch, or why that co- worker passed you by on the street without saying hello. Often, once that train of thought starts, it\\'s very easy to let it snowball and replay on a loop, reinforcing your anxiety.\\n\\nTruth is though, unless you\\'re planning to approach those people and straight out ask them for the truth (which, let\\'s face it, most if us with anxiety are not about to do)  you\\'re never going to know whether that hypothetical scenario is real or not. By replaying those negative what-ifs you\\'re accomplishing absolutely nothing other than forcing yourself to watch an upsetting, imaginary scene over and over.  All it does is further fuel your anxiety. \\n\\n I\\'ve been working on better ways to manage anxiety for a while now and one of the most helpful things was finding ways to interrupt those thoughts and break the repetitive cycle of anxiety inducing scenarios.  I thought I\\'d share this brief phrase. It\\'s a simple one, but something about the rhyming is soothing and helps keep it in mind  when I need an interruption long enough to calm down and redirect my mind to better thoughts.  Hopefully you guys find it useful.\\n \\n',\n",
       " 'send_replies': True,\n",
       " 'spoiler': False,\n",
       " 'stickied': False,\n",
       " 'subreddit': 'Anxiety',\n",
       " 'subreddit_id': 't5_2qmij',\n",
       " 'subreddit_subscribers': 243520,\n",
       " 'subreddit_type': 'public',\n",
       " 'thumbnail': 'self',\n",
       " 'title': \"If you'll never really know, let that damn thought go.\",\n",
       " 'url': 'https://www.reddit.com/r/Anxiety/comments/b964c6/if_youll_never_really_know_let_that_damn_thought/',\n",
       " 'whitelist_status': 'house_only',\n",
       " 'wls': 1}"
      ]
     },
     "execution_count": 22,
     "metadata": {},
     "output_type": "execute_result"
    }
   ],
   "source": [
    "response.json()['data'][0]"
   ]
  },
  {
   "cell_type": "markdown",
   "metadata": {},
   "source": [
    "Creating a list of the data I want to save"
   ]
  },
  {
   "cell_type": "code",
   "execution_count": 23,
   "metadata": {},
   "outputs": [],
   "source": [
    "col_list = ['author',\n",
    "            'subreddit',\n",
    "            'title',\n",
    "            'selftext',\n",
    "            'created_utc',\n",
    "            'retrieved_on',\n",
    "            'url',\n",
    "            'pinned',\n",
    "            'media_only'\n",
    "            ]"
   ]
  },
  {
   "cell_type": "markdown",
   "metadata": {},
   "source": [
    "Defining a function here that will automatically save the data with a unique filename, in case I download again in the future and don't want to overwrite my existing data."
   ]
  },
  {
   "cell_type": "code",
   "execution_count": 24,
   "metadata": {},
   "outputs": [],
   "source": [
    "def filename_format_log(file_path, \n",
    "                        logfile = './assets/file_log.txt', \n",
    "                        now = round(time.time()), \n",
    "                        file_description = None): \n",
    "   \n",
    "    try:\n",
    "        ext = re.search('(?<!^)(?<!\\.)\\.(?!\\.)', file_path).start() \n",
    "    except:\n",
    "        raise NameError('Please enter a relative path with a file extension.') \n",
    "    \n",
    "    stamp = re.search('(?<!^)(?<!\\.)[a-z]+_[a-z]+(?=\\.)', file_path).start()\n",
    "    formatted_name = f'{file_path[:stamp]}{now}_{file_path[stamp:]}'  \n",
    "    if not file_description:\n",
    "        file_description = f'Pull: {time.asctime(time.gmtime(now))}'\n",
    "    with open(logfile, 'a+') as f:\n",
    "        f.write(f'{formatted_name}: {file_description}\\n')\n",
    "    return formatted_name, now, file_description"
   ]
  },
  {
   "cell_type": "markdown",
   "metadata": {},
   "source": [
    "Defining a custom function to run my subreddit queries, show the status and progress as it happens, and automatically write the data into a corresponding .json file using my previously defined custom function from above."
   ]
  },
  {
   "cell_type": "code",
   "execution_count": 55,
   "metadata": {},
   "outputs": [],
   "source": [
    "def reddit_query(subreddits, n_samples=1500, before=None, after=None):\n",
    "    url = f'https://api.pushshift.io/reddit/search/submission'\n",
    "    last_comment = round(time.time())\n",
    "    comment_list = []\n",
    "    \n",
    "    run = 1\n",
    "    while len(comment_list) < n_samples:\n",
    "        \n",
    "        try:\n",
    "            print(f'Starting query {run}')\n",
    "            \n",
    "            params = {\n",
    "              'subreddit':subreddits,\n",
    "              'sort':'desc',\n",
    "              'size':n_samples,\n",
    "              'before':last_comment-1,\n",
    "              'after':after,\n",
    "             }\n",
    "                \n",
    "            response = requests.get(url, params = params)\n",
    "            posts = response.json()['data']\n",
    "            \n",
    "            if len(posts) == 0:\n",
    "                last_comment = last_comment\n",
    "            else:\n",
    "                last_comment = posts[-1]['created_utc']\n",
    "                comment_list.extend(posts)\n",
    "                timestamp = posts[-1]['created_utc']\n",
    "                time.sleep(1) \n",
    "                run += 1\n",
    "        except:\n",
    "            if response.status_code != 200:\n",
    "                return f'Check status. Error code: {response.status_code}'\n",
    "            else:\n",
    "                return 'Error. Pull not completed.'\n",
    "    \n",
    "    formatted_name, now, file_description = filename_format_log(file_path =f'./data/raw_{subreddits}.json', now=timestamp)\n",
    "    with open(formatted_name, 'w+') as f:\n",
    "        json.dump(comment_list, f)\n",
    "    \n",
    "    print(f'Saved and completed query and returned {len(comment_list)} submissions.')\n",
    "    print(f'Reddit text is ready for processing.')\n",
    "    return print(f'Last timestamp was {timestamp}.')"
   ]
  },
  {
   "cell_type": "markdown",
   "metadata": {},
   "source": [
    "Running the query for the ADHD subreddit"
   ]
  },
  {
   "cell_type": "code",
   "execution_count": 56,
   "metadata": {},
   "outputs": [
    {
     "name": "stdout",
     "output_type": "stream",
     "text": [
      "Starting query 1\n",
      "Starting query 2\n",
      "Saved and completed query and returned 2000 submissions.\n",
      "Reddit text is ready for processing.\n",
      "Last timestamp was 1553533645.\n"
     ]
    }
   ],
   "source": [
    "reddit_query(subreddits='adhd', n_samples=2000)"
   ]
  },
  {
   "cell_type": "markdown",
   "metadata": {},
   "source": [
    "Loading the saved .json file"
   ]
  },
  {
   "cell_type": "code",
   "execution_count": 57,
   "metadata": {},
   "outputs": [],
   "source": [
    "with open(f'./data/1553533645_raw_adhd.json', 'r') as f:\n",
    "    adhd_list = json.load(f)"
   ]
  },
  {
   "cell_type": "code",
   "execution_count": 58,
   "metadata": {},
   "outputs": [
    {
     "data": {
      "text/plain": [
       "2000"
      ]
     },
     "execution_count": 58,
     "metadata": {},
     "output_type": "execute_result"
    }
   ],
   "source": [
    "len(adhd_list)"
   ]
  },
  {
   "cell_type": "markdown",
   "metadata": {},
   "source": [
    "Checking to see if the data came through"
   ]
  },
  {
   "cell_type": "code",
   "execution_count": 59,
   "metadata": {},
   "outputs": [
    {
     "data": {
      "text/plain": [
       "{'author': 'muchomuchomaas',\n",
       " 'author_flair_css_class': None,\n",
       " 'author_flair_richtext': [],\n",
       " 'author_flair_text': None,\n",
       " 'author_flair_type': 'text',\n",
       " 'author_fullname': 't2_8aktb',\n",
       " 'author_patreon_flair': False,\n",
       " 'can_mod_post': False,\n",
       " 'contest_mode': False,\n",
       " 'created_utc': 1554340205,\n",
       " 'domain': 'self.ADHD',\n",
       " 'full_link': 'https://www.reddit.com/r/ADHD/comments/b96cun/just_starting_meds/',\n",
       " 'gildings': {'gid_1': 0, 'gid_2': 0, 'gid_3': 0},\n",
       " 'id': 'b96cun',\n",
       " 'is_crosspostable': True,\n",
       " 'is_meta': False,\n",
       " 'is_original_content': False,\n",
       " 'is_reddit_media_domain': False,\n",
       " 'is_robot_indexable': True,\n",
       " 'is_self': True,\n",
       " 'is_video': False,\n",
       " 'link_flair_background_color': '',\n",
       " 'link_flair_richtext': [],\n",
       " 'link_flair_text_color': 'dark',\n",
       " 'link_flair_type': 'text',\n",
       " 'locked': False,\n",
       " 'media_only': False,\n",
       " 'no_follow': True,\n",
       " 'num_comments': 0,\n",
       " 'num_crossposts': 0,\n",
       " 'over_18': False,\n",
       " 'parent_whitelist_status': 'all_ads',\n",
       " 'permalink': '/r/ADHD/comments/b96cun/just_starting_meds/',\n",
       " 'pinned': False,\n",
       " 'pwls': 6,\n",
       " 'retrieved_on': 1554340206,\n",
       " 'score': 1,\n",
       " 'selftext': \"So I saw my psychiatrist yesterday for the first time after suspecting I had had some attention, focus and executive function deficits - he said there was enough in my presentation to trial medication.\\n\\nWe discussed the options and I went for Dex - I took the first pill at lunch and it had a profound effect. There was so much calm, so much more free space in my head - I managed to do paperwork for 40min straight for the first time since I can remember it was amazing. This morning hasn't been as clear cut.\\n\\nI guess I'm just looking to hear about people's experience starting medication, dialing in the dosage, getting the most use out of it, how stuff like coffee, or alcohol affects it, or hangovers - just anything really\",\n",
       " 'send_replies': True,\n",
       " 'spoiler': False,\n",
       " 'stickied': False,\n",
       " 'subreddit': 'ADHD',\n",
       " 'subreddit_id': 't5_2qnwb',\n",
       " 'subreddit_subscribers': 391017,\n",
       " 'subreddit_type': 'public',\n",
       " 'thumbnail': 'self',\n",
       " 'title': 'Just starting meds',\n",
       " 'url': 'https://www.reddit.com/r/ADHD/comments/b96cun/just_starting_meds/',\n",
       " 'whitelist_status': 'all_ads',\n",
       " 'wls': 6}"
      ]
     },
     "execution_count": 59,
     "metadata": {},
     "output_type": "execute_result"
    }
   ],
   "source": [
    "adhd_list[0]"
   ]
  },
  {
   "cell_type": "markdown",
   "metadata": {},
   "source": [
    "Defining a custom function to automatically parse my data so that it only keeps what I want and makes it ready to be turned into a Pandas DataFrame."
   ]
  },
  {
   "cell_type": "code",
   "execution_count": 60,
   "metadata": {},
   "outputs": [],
   "source": [
    "def reddit_parse(sample):\n",
    "    \n",
    "    col_list = ['author',\n",
    "            'subreddit',\n",
    "            'title',\n",
    "            'selftext',\n",
    "            'created_utc',\n",
    "            'retrieved_on',\n",
    "            'url',\n",
    "            'pinned',\n",
    "            'media_only'\n",
    "            ]\n",
    "    \n",
    "    posts_df = pd.DataFrame(sample)\n",
    "    posts_df = posts_df[col_list]\n",
    "    \n",
    "    posts_df.rename(columns={'subreddit':'adhd'}, inplace=True)\n",
    "    posts_df['adhd'] = posts_df['adhd'].map({'ADHD':1, 'Anxiety':0})\n",
    "    \n",
    "    col_order = ['author',\n",
    "            'adhd',\n",
    "            'title',\n",
    "            'selftext',\n",
    "            'created_utc',\n",
    "            'retrieved_on',\n",
    "            'url',\n",
    "            'pinned',\n",
    "            'media_only'\n",
    "            ]\n",
    "\n",
    "    return posts_df[col_order]"
   ]
  },
  {
   "cell_type": "code",
   "execution_count": 61,
   "metadata": {},
   "outputs": [],
   "source": [
    "adhd_df = reddit_parse(adhd_list)"
   ]
  },
  {
   "cell_type": "code",
   "execution_count": 62,
   "metadata": {},
   "outputs": [
    {
     "data": {
      "text/plain": [
       "1    2000\n",
       "Name: adhd, dtype: int64"
      ]
     },
     "execution_count": 62,
     "metadata": {},
     "output_type": "execute_result"
    }
   ],
   "source": [
    "adhd_df.adhd.value_counts()"
   ]
  },
  {
   "cell_type": "code",
   "execution_count": 63,
   "metadata": {},
   "outputs": [
    {
     "data": {
      "text/html": [
       "<div>\n",
       "<style scoped>\n",
       "    .dataframe tbody tr th:only-of-type {\n",
       "        vertical-align: middle;\n",
       "    }\n",
       "\n",
       "    .dataframe tbody tr th {\n",
       "        vertical-align: top;\n",
       "    }\n",
       "\n",
       "    .dataframe thead th {\n",
       "        text-align: right;\n",
       "    }\n",
       "</style>\n",
       "<table border=\"1\" class=\"dataframe\">\n",
       "  <thead>\n",
       "    <tr style=\"text-align: right;\">\n",
       "      <th></th>\n",
       "      <th>author</th>\n",
       "      <th>adhd</th>\n",
       "      <th>title</th>\n",
       "      <th>selftext</th>\n",
       "      <th>created_utc</th>\n",
       "      <th>retrieved_on</th>\n",
       "      <th>url</th>\n",
       "      <th>pinned</th>\n",
       "      <th>media_only</th>\n",
       "    </tr>\n",
       "  </thead>\n",
       "  <tbody>\n",
       "    <tr>\n",
       "      <th>0</th>\n",
       "      <td>muchomuchomaas</td>\n",
       "      <td>1</td>\n",
       "      <td>Just starting meds</td>\n",
       "      <td>So I saw my psychiatrist yesterday for the fir...</td>\n",
       "      <td>1554340205</td>\n",
       "      <td>1554340206</td>\n",
       "      <td>https://www.reddit.com/r/ADHD/comments/b96cun/...</td>\n",
       "      <td>False</td>\n",
       "      <td>False</td>\n",
       "    </tr>\n",
       "    <tr>\n",
       "      <th>1</th>\n",
       "      <td>RedMooseBlueMoose</td>\n",
       "      <td>1</td>\n",
       "      <td>I CANT FUCKING SLEEP</td>\n",
       "      <td></td>\n",
       "      <td>1554339679</td>\n",
       "      <td>1554339679</td>\n",
       "      <td>https://www.reddit.com/r/ADHD/comments/b969qf/...</td>\n",
       "      <td>False</td>\n",
       "      <td>False</td>\n",
       "    </tr>\n",
       "    <tr>\n",
       "      <th>2</th>\n",
       "      <td>lampdude</td>\n",
       "      <td>1</td>\n",
       "      <td>More than 7 hours of sleep will really fuck up...</td>\n",
       "      <td>If I get 4-6 hours of sleep I am far more prod...</td>\n",
       "      <td>1554339423</td>\n",
       "      <td>1554339424</td>\n",
       "      <td>https://www.reddit.com/r/ADHD/comments/b96846/...</td>\n",
       "      <td>False</td>\n",
       "      <td>False</td>\n",
       "    </tr>\n",
       "    <tr>\n",
       "      <th>3</th>\n",
       "      <td>miljou</td>\n",
       "      <td>1</td>\n",
       "      <td>I (21F) just started Adderall -- Some question...</td>\n",
       "      <td>Heya, I just got started on Adderall IR 10mg u...</td>\n",
       "      <td>1554339377</td>\n",
       "      <td>1554339378</td>\n",
       "      <td>https://www.reddit.com/r/ADHD/comments/b967vk/...</td>\n",
       "      <td>False</td>\n",
       "      <td>False</td>\n",
       "    </tr>\n",
       "    <tr>\n",
       "      <th>4</th>\n",
       "      <td>Chrischticks</td>\n",
       "      <td>1</td>\n",
       "      <td>Untreated ADHD at 20 years old</td>\n",
       "      <td>Spent most of my life as the class clown and t...</td>\n",
       "      <td>1554339254</td>\n",
       "      <td>1554339255</td>\n",
       "      <td>https://www.reddit.com/r/ADHD/comments/b96755/...</td>\n",
       "      <td>False</td>\n",
       "      <td>False</td>\n",
       "    </tr>\n",
       "  </tbody>\n",
       "</table>\n",
       "</div>"
      ],
      "text/plain": [
       "              author  adhd                                              title  \\\n",
       "0     muchomuchomaas     1                                 Just starting meds   \n",
       "1  RedMooseBlueMoose     1                               I CANT FUCKING SLEEP   \n",
       "2           lampdude     1  More than 7 hours of sleep will really fuck up...   \n",
       "3             miljou     1  I (21F) just started Adderall -- Some question...   \n",
       "4       Chrischticks     1                     Untreated ADHD at 20 years old   \n",
       "\n",
       "                                            selftext  created_utc  \\\n",
       "0  So I saw my psychiatrist yesterday for the fir...   1554340205   \n",
       "1                                                      1554339679   \n",
       "2  If I get 4-6 hours of sleep I am far more prod...   1554339423   \n",
       "3  Heya, I just got started on Adderall IR 10mg u...   1554339377   \n",
       "4  Spent most of my life as the class clown and t...   1554339254   \n",
       "\n",
       "   retrieved_on                                                url  pinned  \\\n",
       "0    1554340206  https://www.reddit.com/r/ADHD/comments/b96cun/...   False   \n",
       "1    1554339679  https://www.reddit.com/r/ADHD/comments/b969qf/...   False   \n",
       "2    1554339424  https://www.reddit.com/r/ADHD/comments/b96846/...   False   \n",
       "3    1554339378  https://www.reddit.com/r/ADHD/comments/b967vk/...   False   \n",
       "4    1554339255  https://www.reddit.com/r/ADHD/comments/b96755/...   False   \n",
       "\n",
       "   media_only  \n",
       "0       False  \n",
       "1       False  \n",
       "2       False  \n",
       "3       False  \n",
       "4       False  "
      ]
     },
     "execution_count": 63,
     "metadata": {},
     "output_type": "execute_result"
    }
   ],
   "source": [
    "adhd_df.head()"
   ]
  },
  {
   "cell_type": "markdown",
   "metadata": {},
   "source": [
    "---"
   ]
  },
  {
   "cell_type": "markdown",
   "metadata": {},
   "source": [
    "Repeating the above for the Anxiety subreddit."
   ]
  },
  {
   "cell_type": "code",
   "execution_count": 64,
   "metadata": {},
   "outputs": [
    {
     "name": "stdout",
     "output_type": "stream",
     "text": [
      "Starting query 1\n",
      "Starting query 2\n",
      "Saved and completed query and returned 2000 submissions.\n",
      "Reddit text is ready for processing.\n",
      "Last timestamp was 1553554769.\n"
     ]
    }
   ],
   "source": [
    "reddit_query(subreddits='anxiety', n_samples=2000)"
   ]
  },
  {
   "cell_type": "code",
   "execution_count": 65,
   "metadata": {},
   "outputs": [],
   "source": [
    "with open(f'./data/1553554769_raw_anxiety.json', 'r') as f:\n",
    "    anxiety_list = json.load(f)"
   ]
  },
  {
   "cell_type": "code",
   "execution_count": 66,
   "metadata": {},
   "outputs": [
    {
     "data": {
      "text/plain": [
       "2000"
      ]
     },
     "execution_count": 66,
     "metadata": {},
     "output_type": "execute_result"
    }
   ],
   "source": [
    "len(anxiety_list)"
   ]
  },
  {
   "cell_type": "code",
   "execution_count": 67,
   "metadata": {},
   "outputs": [
    {
     "data": {
      "text/plain": [
       "{'author': 'ZorroNegro',\n",
       " 'author_flair_css_class': None,\n",
       " 'author_flair_richtext': [],\n",
       " 'author_flair_text': None,\n",
       " 'author_flair_type': 'text',\n",
       " 'author_fullname': 't2_b769nm6',\n",
       " 'author_patreon_flair': False,\n",
       " 'can_mod_post': False,\n",
       " 'contest_mode': False,\n",
       " 'created_utc': 1554340190,\n",
       " 'domain': 'self.Anxiety',\n",
       " 'full_link': 'https://www.reddit.com/r/Anxiety/comments/b96cqu/please_i_need_help/',\n",
       " 'gildings': {'gid_1': 0, 'gid_2': 0, 'gid_3': 0},\n",
       " 'id': 'b96cqu',\n",
       " 'is_crosspostable': True,\n",
       " 'is_meta': False,\n",
       " 'is_original_content': False,\n",
       " 'is_reddit_media_domain': False,\n",
       " 'is_robot_indexable': True,\n",
       " 'is_self': True,\n",
       " 'is_video': False,\n",
       " 'link_flair_background_color': '',\n",
       " 'link_flair_css_class': 'helpflair',\n",
       " 'link_flair_richtext': [],\n",
       " 'link_flair_text': 'Needs A Hug/Support',\n",
       " 'link_flair_text_color': 'dark',\n",
       " 'link_flair_type': 'text',\n",
       " 'locked': False,\n",
       " 'media_only': False,\n",
       " 'no_follow': True,\n",
       " 'num_comments': 0,\n",
       " 'num_crossposts': 0,\n",
       " 'over_18': False,\n",
       " 'parent_whitelist_status': 'house_only',\n",
       " 'permalink': '/r/Anxiety/comments/b96cqu/please_i_need_help/',\n",
       " 'pinned': False,\n",
       " 'pwls': 1,\n",
       " 'retrieved_on': 1554340191,\n",
       " 'score': 1,\n",
       " 'selftext': \"My friend asked me to be his best man for his wedding.\\nThis week at been a disaster for me, Im struggling to sleep, thinking of organising a stag party and doing a speech has fliiped my life upside down several times. The thought of organising the stag party on a budget, the thought of writing a speech and the thought of standing up in front of a room full of people (including people I went to school with and was heavily bullied by my class) \\nI'm thinking of backing out of being best man but my friend doesn't have many friends.\\n\\nCan anyone help me with advice on how I am meant to tell with this, the wedding is in February 2020.\",\n",
       " 'send_replies': True,\n",
       " 'spoiler': False,\n",
       " 'stickied': False,\n",
       " 'subreddit': 'Anxiety',\n",
       " 'subreddit_id': 't5_2qmij',\n",
       " 'subreddit_subscribers': 243525,\n",
       " 'subreddit_type': 'public',\n",
       " 'thumbnail': 'self',\n",
       " 'title': 'Please, I need help',\n",
       " 'url': 'https://www.reddit.com/r/Anxiety/comments/b96cqu/please_i_need_help/',\n",
       " 'whitelist_status': 'house_only',\n",
       " 'wls': 1}"
      ]
     },
     "execution_count": 67,
     "metadata": {},
     "output_type": "execute_result"
    }
   ],
   "source": [
    "anxiety_list[0]"
   ]
  },
  {
   "cell_type": "code",
   "execution_count": 70,
   "metadata": {},
   "outputs": [],
   "source": [
    "def reddit_parse(sample):\n",
    "    \n",
    "    col_list = ['author',\n",
    "            'subreddit',\n",
    "            'title',\n",
    "            'selftext',\n",
    "            'created_utc',\n",
    "            'retrieved_on',\n",
    "            'url',\n",
    "            'pinned',\n",
    "            'media_only'\n",
    "            ]\n",
    "    \n",
    "    posts_df = pd.DataFrame(sample)\n",
    "    posts_df = posts_df[col_list]\n",
    "    \n",
    "    posts_df.rename(columns={'subreddit':'anxiety'}, inplace=True)\n",
    "    posts_df['anxiety'] = posts_df['anxiety'].map({'Anxiety':1, 'ADHD':0})\n",
    "    \n",
    "    col_order = ['author',\n",
    "            'anxiety',\n",
    "            'title',\n",
    "            'selftext',\n",
    "            'created_utc',\n",
    "            'retrieved_on',\n",
    "            'url',\n",
    "            'pinned',\n",
    "            'media_only'\n",
    "            ]\n",
    "\n",
    "    return posts_df[col_order]"
   ]
  },
  {
   "cell_type": "code",
   "execution_count": 71,
   "metadata": {},
   "outputs": [],
   "source": [
    "anxiety_df = reddit_parse(anxiety_list)"
   ]
  },
  {
   "cell_type": "code",
   "execution_count": 72,
   "metadata": {},
   "outputs": [
    {
     "data": {
      "text/plain": [
       "1    2000\n",
       "Name: anxiety, dtype: int64"
      ]
     },
     "execution_count": 72,
     "metadata": {},
     "output_type": "execute_result"
    }
   ],
   "source": [
    "anxiety_df.anxiety.value_counts()"
   ]
  },
  {
   "cell_type": "code",
   "execution_count": 73,
   "metadata": {},
   "outputs": [
    {
     "data": {
      "text/html": [
       "<div>\n",
       "<style scoped>\n",
       "    .dataframe tbody tr th:only-of-type {\n",
       "        vertical-align: middle;\n",
       "    }\n",
       "\n",
       "    .dataframe tbody tr th {\n",
       "        vertical-align: top;\n",
       "    }\n",
       "\n",
       "    .dataframe thead th {\n",
       "        text-align: right;\n",
       "    }\n",
       "</style>\n",
       "<table border=\"1\" class=\"dataframe\">\n",
       "  <thead>\n",
       "    <tr style=\"text-align: right;\">\n",
       "      <th></th>\n",
       "      <th>author</th>\n",
       "      <th>anxiety</th>\n",
       "      <th>title</th>\n",
       "      <th>selftext</th>\n",
       "      <th>created_utc</th>\n",
       "      <th>retrieved_on</th>\n",
       "      <th>url</th>\n",
       "      <th>pinned</th>\n",
       "      <th>media_only</th>\n",
       "    </tr>\n",
       "  </thead>\n",
       "  <tbody>\n",
       "    <tr>\n",
       "      <th>0</th>\n",
       "      <td>ZorroNegro</td>\n",
       "      <td>1</td>\n",
       "      <td>Please, I need help</td>\n",
       "      <td>My friend asked me to be his best man for his ...</td>\n",
       "      <td>1554340190</td>\n",
       "      <td>1554340191</td>\n",
       "      <td>https://www.reddit.com/r/Anxiety/comments/b96c...</td>\n",
       "      <td>False</td>\n",
       "      <td>False</td>\n",
       "    </tr>\n",
       "    <tr>\n",
       "      <th>1</th>\n",
       "      <td>PupperinoSuprimo</td>\n",
       "      <td>1</td>\n",
       "      <td>If you'll never really know, let that damn tho...</td>\n",
       "      <td>Lately, this has become a sort of mantra I've ...</td>\n",
       "      <td>1554338785</td>\n",
       "      <td>1554338785</td>\n",
       "      <td>https://www.reddit.com/r/Anxiety/comments/b964...</td>\n",
       "      <td>False</td>\n",
       "      <td>False</td>\n",
       "    </tr>\n",
       "    <tr>\n",
       "      <th>2</th>\n",
       "      <td>moake740</td>\n",
       "      <td>1</td>\n",
       "      <td>Feeling like such a failure</td>\n",
       "      <td>I suck, I haven’t been taking my meds a prescr...</td>\n",
       "      <td>1554338572</td>\n",
       "      <td>1554338573</td>\n",
       "      <td>https://www.reddit.com/r/Anxiety/comments/b963...</td>\n",
       "      <td>False</td>\n",
       "      <td>False</td>\n",
       "    </tr>\n",
       "    <tr>\n",
       "      <th>3</th>\n",
       "      <td>ketchuptiles</td>\n",
       "      <td>1</td>\n",
       "      <td>Rolling anxiety attacks?</td>\n",
       "      <td>Hey everyone,\\n\\nI could really use your colle...</td>\n",
       "      <td>1554338312</td>\n",
       "      <td>1554338313</td>\n",
       "      <td>https://www.reddit.com/r/Anxiety/comments/b961...</td>\n",
       "      <td>False</td>\n",
       "      <td>False</td>\n",
       "    </tr>\n",
       "    <tr>\n",
       "      <th>4</th>\n",
       "      <td>CrazyTayTay</td>\n",
       "      <td>1</td>\n",
       "      <td>I have a serious problem with chewing my cutic...</td>\n",
       "      <td></td>\n",
       "      <td>1554338074</td>\n",
       "      <td>1554338076</td>\n",
       "      <td>https://i.redd.it/904ci09l75q21.jpg</td>\n",
       "      <td>False</td>\n",
       "      <td>False</td>\n",
       "    </tr>\n",
       "  </tbody>\n",
       "</table>\n",
       "</div>"
      ],
      "text/plain": [
       "             author  anxiety  \\\n",
       "0        ZorroNegro        1   \n",
       "1  PupperinoSuprimo        1   \n",
       "2          moake740        1   \n",
       "3      ketchuptiles        1   \n",
       "4       CrazyTayTay        1   \n",
       "\n",
       "                                               title  \\\n",
       "0                                Please, I need help   \n",
       "1  If you'll never really know, let that damn tho...   \n",
       "2                        Feeling like such a failure   \n",
       "3                           Rolling anxiety attacks?   \n",
       "4  I have a serious problem with chewing my cutic...   \n",
       "\n",
       "                                            selftext  created_utc  \\\n",
       "0  My friend asked me to be his best man for his ...   1554340190   \n",
       "1  Lately, this has become a sort of mantra I've ...   1554338785   \n",
       "2  I suck, I haven’t been taking my meds a prescr...   1554338572   \n",
       "3  Hey everyone,\\n\\nI could really use your colle...   1554338312   \n",
       "4                                                      1554338074   \n",
       "\n",
       "   retrieved_on                                                url  pinned  \\\n",
       "0    1554340191  https://www.reddit.com/r/Anxiety/comments/b96c...   False   \n",
       "1    1554338785  https://www.reddit.com/r/Anxiety/comments/b964...   False   \n",
       "2    1554338573  https://www.reddit.com/r/Anxiety/comments/b963...   False   \n",
       "3    1554338313  https://www.reddit.com/r/Anxiety/comments/b961...   False   \n",
       "4    1554338076                https://i.redd.it/904ci09l75q21.jpg   False   \n",
       "\n",
       "   media_only  \n",
       "0       False  \n",
       "1       False  \n",
       "2       False  \n",
       "3       False  \n",
       "4       False  "
      ]
     },
     "execution_count": 73,
     "metadata": {},
     "output_type": "execute_result"
    }
   ],
   "source": [
    "anxiety_df.head()"
   ]
  },
  {
   "cell_type": "markdown",
   "metadata": {},
   "source": [
    "---"
   ]
  },
  {
   "cell_type": "markdown",
   "metadata": {},
   "source": [
    "Merging both dataframes into one for easier cleaning"
   ]
  },
  {
   "cell_type": "code",
   "execution_count": 74,
   "metadata": {},
   "outputs": [],
   "source": [
    "df = pd.merge(anxiety_df, adhd_df, how='outer')"
   ]
  },
  {
   "cell_type": "code",
   "execution_count": 94,
   "metadata": {},
   "outputs": [
    {
     "data": {
      "text/plain": [
       "author          0\n",
       "anxiety         0\n",
       "title           0\n",
       "selftext        0\n",
       "created_utc     0\n",
       "retrieved_on    0\n",
       "url             0\n",
       "pinned          0\n",
       "media_only      0\n",
       "adhd            0\n",
       "dtype: int64"
      ]
     },
     "execution_count": 94,
     "metadata": {},
     "output_type": "execute_result"
    }
   ],
   "source": [
    "df.isna().sum()"
   ]
  },
  {
   "cell_type": "code",
   "execution_count": 78,
   "metadata": {},
   "outputs": [],
   "source": [
    "df.fillna(0, inplace=True)"
   ]
  },
  {
   "cell_type": "markdown",
   "metadata": {},
   "source": [
    "Checking for and dropping duplicates"
   ]
  },
  {
   "cell_type": "code",
   "execution_count": 90,
   "metadata": {},
   "outputs": [],
   "source": [
    "duplicates = df.duplicated(subset=['title', 'author'])"
   ]
  },
  {
   "cell_type": "code",
   "execution_count": 91,
   "metadata": {},
   "outputs": [
    {
     "data": {
      "text/plain": [
       "False    3988\n",
       "True       12\n",
       "dtype: int64"
      ]
     },
     "execution_count": 91,
     "metadata": {},
     "output_type": "execute_result"
    }
   ],
   "source": [
    "duplicates.value_counts()"
   ]
  },
  {
   "cell_type": "markdown",
   "metadata": {},
   "source": [
    "Looks like we only have 12 duplicates, so going to drop those"
   ]
  },
  {
   "cell_type": "code",
   "execution_count": 92,
   "metadata": {},
   "outputs": [],
   "source": [
    "df.drop_duplicates(subset=['title', 'author'], inplace=True)"
   ]
  },
  {
   "cell_type": "markdown",
   "metadata": {},
   "source": [
    "Saving out to a do more rigorous cleaning in a separate notebook"
   ]
  },
  {
   "cell_type": "code",
   "execution_count": 93,
   "metadata": {},
   "outputs": [],
   "source": [
    "df.to_csv('./data/clean.csv')"
   ]
  }
 ],
 "metadata": {
  "kernelspec": {
   "display_name": "Python 3",
   "language": "python",
   "name": "python3"
  },
  "language_info": {
   "codemirror_mode": {
    "name": "ipython",
    "version": 3
   },
   "file_extension": ".py",
   "mimetype": "text/x-python",
   "name": "python",
   "nbconvert_exporter": "python",
   "pygments_lexer": "ipython3",
   "version": "3.7.2"
  }
 },
 "nbformat": 4,
 "nbformat_minor": 2
}
