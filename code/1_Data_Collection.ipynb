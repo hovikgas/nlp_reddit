{
 "cells": [
  {
   "cell_type": "markdown",
   "metadata": {},
   "source": [
    "[![Open In Colab](https://colab.research.google.com/assets/colab-badge.svg)](https://colab.research.google.com/github/hovikgas/nlp_reddit/blob/master/code/1_Data_Collection.ipynb)"
   ]
  },
  {
   "cell_type": "markdown",
   "metadata": {},
   "source": [
    "# Classification of the /r/ADHD and /r/Anxiety SubReddits"
   ]
  },
  {
   "cell_type": "markdown",
   "metadata": {},
   "source": [
    "### Data Collection"
   ]
  },
  {
   "cell_type": "code",
   "execution_count": 1,
   "metadata": {},
   "outputs": [],
   "source": [
    "import requests, time, csv, json, re\n",
    "import pandas as pd"
   ]
  },
  {
   "cell_type": "markdown",
   "metadata": {},
   "source": [
    "First I am going to test out the Pushshift API. I start by creating URL and parameter variables for use with the requests package. Reddit calls posts submissions, and the Pushshift API allows at most 100 posts to be pulled at once."
   ]
  },
  {
   "cell_type": "code",
   "execution_count": 2,
   "metadata": {},
   "outputs": [],
   "source": [
    "# URL based on Pushshift API documentation \n",
    "url = 'https://api.pushshift.io/reddit/search/submission'\n",
    "\n",
    "# Testing out with just 2 parameters specifying which subreddit and how many posts to pull\n",
    "params = {'subreddit':'anxiety',\n",
    "          'size':100,\n",
    "         }"
   ]
  },
  {
   "cell_type": "code",
   "execution_count": 3,
   "metadata": {},
   "outputs": [],
   "source": [
    "response = requests.get(url, params=params)"
   ]
  },
  {
   "cell_type": "markdown",
   "metadata": {},
   "source": [
    "Testing the response to see if an error code was given"
   ]
  },
  {
   "cell_type": "code",
   "execution_count": 4,
   "metadata": {},
   "outputs": [
    {
     "data": {
      "text/plain": [
       "200"
      ]
     },
     "execution_count": 4,
     "metadata": {},
     "output_type": "execute_result"
    }
   ],
   "source": [
    "response.status_code"
   ]
  },
  {
   "cell_type": "markdown",
   "metadata": {},
   "source": [
    "Reddit stores its data as a JSON, like many websites. Here, I look at the first item in that JSON's 'data' key where all the data is stored for each post."
   ]
  },
  {
   "cell_type": "code",
   "execution_count": 5,
   "metadata": {},
   "outputs": [
    {
     "data": {
      "text/plain": [
       "{'all_awardings': [],\n",
       " 'allow_live_comments': False,\n",
       " 'author': 'avocadojiang',\n",
       " 'author_flair_css_class': None,\n",
       " 'author_flair_richtext': [],\n",
       " 'author_flair_text': None,\n",
       " 'author_flair_type': 'text',\n",
       " 'author_fullname': 't2_2onvixzt',\n",
       " 'author_patreon_flair': False,\n",
       " 'author_premium': False,\n",
       " 'awarders': [],\n",
       " 'can_mod_post': False,\n",
       " 'contest_mode': False,\n",
       " 'created_utc': 1593139398,\n",
       " 'domain': 'self.Anxiety',\n",
       " 'full_link': 'https://www.reddit.com/r/Anxiety/comments/hfzjm6/webmd_is_trash_fire/',\n",
       " 'gildings': {},\n",
       " 'id': 'hfzjm6',\n",
       " 'is_crosspostable': True,\n",
       " 'is_meta': False,\n",
       " 'is_original_content': False,\n",
       " 'is_reddit_media_domain': False,\n",
       " 'is_robot_indexable': True,\n",
       " 'is_self': True,\n",
       " 'is_video': False,\n",
       " 'link_flair_background_color': '',\n",
       " 'link_flair_css_class': 'venting',\n",
       " 'link_flair_richtext': [],\n",
       " 'link_flair_template_id': '19ddd408-76a1-11e5-acb1-0ea7f7edc7ed',\n",
       " 'link_flair_text': 'Venting',\n",
       " 'link_flair_text_color': 'dark',\n",
       " 'link_flair_type': 'text',\n",
       " 'locked': False,\n",
       " 'media_only': False,\n",
       " 'no_follow': True,\n",
       " 'num_comments': 1,\n",
       " 'num_crossposts': 0,\n",
       " 'over_18': False,\n",
       " 'parent_whitelist_status': 'house_only',\n",
       " 'permalink': '/r/Anxiety/comments/hfzjm6/webmd_is_trash_fire/',\n",
       " 'pinned': False,\n",
       " 'pwls': 1,\n",
       " 'retrieved_on': 1593139399,\n",
       " 'score': 1,\n",
       " 'selftext': 'I made a huge mistake and went on web md. I was originally worried that I was exhibiting early symptoms of covid- but now I\\'m worried I might have cancer. It kind of sucks that things like appetite loss, insomnia, body aches, stomach problems can all be caused by anxiety and stress, but on WebMD they are also \"signs of cancer if you have two or more of these symptoms.\" I\\'m young, very active, and lost 10 pounds the past three months cause I started eating less because home cooked food is becoming less appetizing. But now health anxiety has spiked and I\\'m struggling to find sleep. \\n\\nThis episode started cause I found a bump inside my lip (most likely a traumatic fibroma from when I was grinding my teeth in my sleep), but it has spiraled to a very tense week. Big sad.',\n",
       " 'send_replies': True,\n",
       " 'spoiler': False,\n",
       " 'stickied': False,\n",
       " 'subreddit': 'Anxiety',\n",
       " 'subreddit_id': 't5_2qmij',\n",
       " 'subreddit_subscribers': 368913,\n",
       " 'subreddit_type': 'public',\n",
       " 'thumbnail': 'self',\n",
       " 'title': 'WebMD is trash fire',\n",
       " 'total_awards_received': 0,\n",
       " 'treatment_tags': [],\n",
       " 'upvote_ratio': 1.0,\n",
       " 'url': 'https://www.reddit.com/r/Anxiety/comments/hfzjm6/webmd_is_trash_fire/',\n",
       " 'whitelist_status': 'house_only',\n",
       " 'wls': 1}"
      ]
     },
     "execution_count": 5,
     "metadata": {},
     "output_type": "execute_result"
    }
   ],
   "source": [
    "response.json()['data'][0]"
   ]
  },
  {
   "cell_type": "markdown",
   "metadata": {},
   "source": [
    "---"
   ]
  },
  {
   "cell_type": "markdown",
   "metadata": {},
   "source": [
    "#### Now that I've tested out the Pushshift API and successfully collected 2000 posts. I want to automate this functionality to make it easier in the future to collect data from other subreddits, or to collect even more data. "
   ]
  },
  {
   "cell_type": "markdown",
   "metadata": {},
   "source": [
    "Here I define a function here that will automatically save the data with a unique filename, in case I download again in the future and don't want to overwrite my existing data."
   ]
  },
  {
   "cell_type": "code",
   "execution_count": 7,
   "metadata": {},
   "outputs": [],
   "source": [
    "def filename_format_log(file_path, \n",
    "                        logfile = '../assets/file_log.txt', \n",
    "                        now = round(time.time()), \n",
    "                        file_description = None): \n",
    "   \n",
    "    try:\n",
    "        ext = re.search('(?<!^)(?<!\\.)\\.(?!\\.)', file_path).start() \n",
    "    except:\n",
    "        raise NameError('Please enter a relative path with a file extension.') \n",
    "    \n",
    "    stamp = re.search('(?<!^)(?<!\\.)[a-z]+_[a-z]+(?=\\.)', file_path).start()\n",
    "    formatted_name = f'{file_path[:stamp]}{now}_{file_path[stamp:]}'  \n",
    "    if not file_description:\n",
    "        file_description = f'Pull: {time.asctime(time.gmtime(now))}'\n",
    "    with open(logfile, 'a+') as f:\n",
    "        f.write(f'{formatted_name}: {file_description}\\n')\n",
    "    return formatted_name, now, file_description"
   ]
  },
  {
   "cell_type": "markdown",
   "metadata": {},
   "source": [
    "Here I define a custom function to run my subreddit queries, show the status and progress as it happens, and automatically write the data into a corresponding JSON file using my previously defined custom function from above."
   ]
  },
  {
   "cell_type": "code",
   "execution_count": 8,
   "metadata": {},
   "outputs": [],
   "source": [
    "def reddit_query(subreddit, n_samples=100, before=None, after=None):\n",
    "    url = f'https://api.pushshift.io/reddit/search/submission'\n",
    "    last_comment = round(time.time())\n",
    "    comment_list = []\n",
    "    \n",
    "    run = 1\n",
    "    while len(comment_list) < n_samples:\n",
    "        \n",
    "        try:\n",
    "            print(f'Starting query {run}')\n",
    "            \n",
    "            params = {\n",
    "              'subreddit':subreddit,\n",
    "              'sort':'desc',\n",
    "              'size':n_samples,\n",
    "              'before':last_comment-1,\n",
    "              'after':after,\n",
    "             }\n",
    "                \n",
    "            response = requests.get(url, params = params)\n",
    "            posts = response.json()['data']\n",
    "            \n",
    "            if len(posts) == 0:\n",
    "                last_comment = last_comment\n",
    "            else:\n",
    "                last_comment = posts[-1]['created_utc']\n",
    "                comment_list.extend(posts)\n",
    "                timestamp = posts[-1]['created_utc']\n",
    "                time.sleep(1) \n",
    "                run += 1\n",
    "        except:\n",
    "            if response.status_code != 200:\n",
    "                return f'Check status. Error code: {response.status_code}'\n",
    "            else:\n",
    "                return 'Error. Pull not completed.'\n",
    "    \n",
    "    formatted_name, now, file_description = filename_format_log(file_path =f'../data/raw_{subreddit}.json', now=timestamp)\n",
    "    with open(formatted_name, 'w+') as f:\n",
    "        json.dump(comment_list, f)\n",
    "    \n",
    "    print(f'Saved and completed query and returned {len(comment_list)} submissions.')\n",
    "    print(f'Reddit text is ready for processing.')\n",
    "    return print(f'Last timestamp was {timestamp}.')"
   ]
  },
  {
   "cell_type": "markdown",
   "metadata": {},
   "source": [
    "Running the query for the ADHD subreddit"
   ]
  },
  {
   "cell_type": "code",
   "execution_count": 9,
   "metadata": {},
   "outputs": [
    {
     "name": "stdout",
     "output_type": "stream",
     "text": [
      "Starting query 1\n",
      "Starting query 2\n",
      "Starting query 3\n",
      "Starting query 4\n",
      "Starting query 5\n",
      "Starting query 6\n",
      "Starting query 7\n",
      "Starting query 8\n",
      "Starting query 9\n",
      "Starting query 10\n",
      "Starting query 11\n",
      "Starting query 12\n",
      "Starting query 13\n",
      "Starting query 14\n",
      "Starting query 15\n",
      "Starting query 16\n",
      "Starting query 17\n",
      "Starting query 18\n",
      "Starting query 19\n",
      "Starting query 20\n",
      "Saved and completed query and returned 20000 submissions.\n",
      "Reddit text is ready for processing.\n",
      "Last timestamp was 1586893398.\n"
     ]
    }
   ],
   "source": [
    "reddit_query(subreddit='adhd', n_samples=20000)"
   ]
  },
  {
   "cell_type": "markdown",
   "metadata": {},
   "source": [
    "Loading the saved JSON file into a list using the name of the last timestamp as the prefix for the filename."
   ]
  },
  {
   "cell_type": "code",
   "execution_count": 10,
   "metadata": {},
   "outputs": [],
   "source": [
    "with open(f'../data/1586893398_raw_adhd.json', 'r') as f:\n",
    "    adhd_list = json.load(f)"
   ]
  },
  {
   "cell_type": "markdown",
   "metadata": {},
   "source": [
    "Checking the length of the aforementioned list, to see if it matches the expected number of samples pulled from the query function."
   ]
  },
  {
   "cell_type": "code",
   "execution_count": 11,
   "metadata": {},
   "outputs": [
    {
     "data": {
      "text/plain": [
       "20000"
      ]
     },
     "execution_count": 11,
     "metadata": {},
     "output_type": "execute_result"
    }
   ],
   "source": [
    "len(adhd_list)"
   ]
  },
  {
   "cell_type": "markdown",
   "metadata": {},
   "source": [
    "Checking to see if the data came through. Looks good!"
   ]
  },
  {
   "cell_type": "code",
   "execution_count": 12,
   "metadata": {},
   "outputs": [
    {
     "data": {
      "text/plain": [
       "{'all_awardings': [],\n",
       " 'allow_live_comments': False,\n",
       " 'author': 'doublePepperoni314',\n",
       " 'author_flair_css_class': None,\n",
       " 'author_flair_richtext': [],\n",
       " 'author_flair_text': None,\n",
       " 'author_flair_type': 'text',\n",
       " 'author_fullname': 't2_5ezrii3y',\n",
       " 'author_patreon_flair': False,\n",
       " 'author_premium': False,\n",
       " 'awarders': [],\n",
       " 'can_mod_post': False,\n",
       " 'contest_mode': False,\n",
       " 'created_utc': 1593139327,\n",
       " 'domain': 'self.ADHD',\n",
       " 'full_link': 'https://www.reddit.com/r/ADHD/comments/hfzj0q/imminent_failure_entering_a_coding_immersive/',\n",
       " 'gildings': {},\n",
       " 'id': 'hfzj0q',\n",
       " 'is_crosspostable': True,\n",
       " 'is_meta': False,\n",
       " 'is_original_content': False,\n",
       " 'is_reddit_media_domain': False,\n",
       " 'is_robot_indexable': True,\n",
       " 'is_self': True,\n",
       " 'is_video': False,\n",
       " 'link_flair_background_color': '',\n",
       " 'link_flair_richtext': [],\n",
       " 'link_flair_text_color': 'dark',\n",
       " 'link_flair_type': 'text',\n",
       " 'locked': False,\n",
       " 'media_only': False,\n",
       " 'no_follow': True,\n",
       " 'num_comments': 0,\n",
       " 'num_crossposts': 0,\n",
       " 'over_18': False,\n",
       " 'parent_whitelist_status': 'house_only',\n",
       " 'permalink': '/r/ADHD/comments/hfzj0q/imminent_failure_entering_a_coding_immersive/',\n",
       " 'pinned': False,\n",
       " 'pwls': 1,\n",
       " 'retrieved_on': 1593139332,\n",
       " 'score': 1,\n",
       " 'selftext': \" I'm 37(m) and starting a coding immersive on June 29th. I am petrified. For every year I was in school, I have a clear memory of failure. Almost held back a couple times in grade/middle school. Barely made it through high school. Dropped out of university and managed to get an associates at a culinary school. All quite embarrassing and left some pretty deep scars.\\n\\n\\xa0I was diagnosed at 19, but back then most people believed ADHD wasn't a thing. At the time I was learning to cook professionally. I tried out medication, but due to a number of reasons I stopped. I started to believe, once again, that I didn't have a problem. Everyone was right, as they always had been. I was just lazy. I just needed to work harder. \\n\\nI struggled to learn how to line cook. I was constantly shamed and ridiculed for not picking things up quickly, or not getting things done fast enough. The usual restaurant bullshit. Once I learned how to do everything I excelled. \\n\\nI've had a decent career as a cook/chef, but I fell into the traps of alcoholism and addiction that come with working in the restaurant industry. After a messy divorce, serious depression and debilitating anxiety attacks, I was left with no choice but to take my mental health seriously. \\n\\nI am A LOT better now. It took a couple of years. Lots of backsliding. Lots of self loathing. I had to remove myself from 90% of my support group cuz they were part of the problem. This has left me pretty isolated (especially now), but I've got my people and I know they are valuable. I have a rad partner who is intelligent, successful and beautiful. And I'm starting a coding immersive! \\n\\nI found this space a few months ago and it led me to led me to embrace my ADHD. I can't believe it. There is actually a massive community out there! Somewhere where I don't have to feel like I'm from another planet. \\n\\nI'm working through different medications. Haven't found the right one yet. I've got a solid routine, but its not perfect. Seems exercise, clean diet, keeping clean, writing lists &amp; caffeine work for me. The thing is, I can't imagine success. I don't know what it looks like. I think I'm doing everything I can, but I always feel like I should be doing more. Bootcamps/immersives are super intense! Any advice would be greatly welcome, but I just needed to put this somewhere.\",\n",
       " 'send_replies': True,\n",
       " 'spoiler': False,\n",
       " 'stickied': False,\n",
       " 'subreddit': 'ADHD',\n",
       " 'subreddit_id': 't5_2qnwb',\n",
       " 'subreddit_subscribers': 807777,\n",
       " 'subreddit_type': 'public',\n",
       " 'thumbnail': 'self',\n",
       " 'title': 'Imminent Failure? Entering a Coding Immersive',\n",
       " 'total_awards_received': 0,\n",
       " 'treatment_tags': [],\n",
       " 'upvote_ratio': 1.0,\n",
       " 'url': 'https://www.reddit.com/r/ADHD/comments/hfzj0q/imminent_failure_entering_a_coding_immersive/',\n",
       " 'whitelist_status': 'house_only',\n",
       " 'wls': 1}"
      ]
     },
     "execution_count": 12,
     "metadata": {},
     "output_type": "execute_result"
    }
   ],
   "source": [
    "adhd_list[0]"
   ]
  },
  {
   "cell_type": "markdown",
   "metadata": {},
   "source": [
    "Here I define a custom function to automatically parse my data so that it only keeps what I want and makes it ready to be turned into a Pandas DataFrame."
   ]
  },
  {
   "cell_type": "code",
   "execution_count": 28,
   "metadata": {},
   "outputs": [],
   "source": [
    "def reddit_parse(sample, subreddit):\n",
    "    # list of columns to keep, ignoring everything else\n",
    "    col_list = ['author',\n",
    "            'subreddit',\n",
    "            'title',\n",
    "            'selftext',\n",
    "            'created_utc',\n",
    "            'retrieved_on',\n",
    "            'url',\n",
    "            'pinned',\n",
    "            'media_only'\n",
    "            ]\n",
    "    # creating a dataframe from the inputted data\n",
    "    posts_df = pd.DataFrame(sample)\n",
    "    posts_df = posts_df[col_list]\n",
    "    \n",
    "    #\n",
    "    posts_df.rename(columns={'subreddit':subreddit}, inplace=True)\n",
    "    posts_df[subreddit] = posts_df[subreddit].map({subreddit:1})\n",
    "    \n",
    "    col_order = ['author',\n",
    "            subreddit,\n",
    "            'title',\n",
    "            'selftext',\n",
    "            'created_utc',\n",
    "            'retrieved_on',\n",
    "            'url',\n",
    "            'pinned',\n",
    "            'media_only'\n",
    "            ]\n",
    "\n",
    "    return posts_df[col_order]"
   ]
  },
  {
   "cell_type": "code",
   "execution_count": 29,
   "metadata": {},
   "outputs": [],
   "source": [
    "adhd_df = reddit_parse(adhd_list, 'ADHD')"
   ]
  },
  {
   "cell_type": "code",
   "execution_count": 31,
   "metadata": {},
   "outputs": [
    {
     "data": {
      "text/plain": [
       "1    20000\n",
       "Name: ADHD, dtype: int64"
      ]
     },
     "execution_count": 31,
     "metadata": {},
     "output_type": "execute_result"
    }
   ],
   "source": [
    "adhd_df.ADHD.value_counts()"
   ]
  },
  {
   "cell_type": "code",
   "execution_count": 32,
   "metadata": {},
   "outputs": [
    {
     "data": {
      "text/html": [
       "<div>\n",
       "<style scoped>\n",
       "    .dataframe tbody tr th:only-of-type {\n",
       "        vertical-align: middle;\n",
       "    }\n",
       "\n",
       "    .dataframe tbody tr th {\n",
       "        vertical-align: top;\n",
       "    }\n",
       "\n",
       "    .dataframe thead th {\n",
       "        text-align: right;\n",
       "    }\n",
       "</style>\n",
       "<table border=\"1\" class=\"dataframe\">\n",
       "  <thead>\n",
       "    <tr style=\"text-align: right;\">\n",
       "      <th></th>\n",
       "      <th>author</th>\n",
       "      <th>ADHD</th>\n",
       "      <th>title</th>\n",
       "      <th>selftext</th>\n",
       "      <th>created_utc</th>\n",
       "      <th>retrieved_on</th>\n",
       "      <th>url</th>\n",
       "      <th>pinned</th>\n",
       "      <th>media_only</th>\n",
       "    </tr>\n",
       "  </thead>\n",
       "  <tbody>\n",
       "    <tr>\n",
       "      <th>0</th>\n",
       "      <td>doublePepperoni314</td>\n",
       "      <td>1</td>\n",
       "      <td>Imminent Failure? Entering a Coding Immersive</td>\n",
       "      <td>I'm 37(m) and starting a coding immersive on ...</td>\n",
       "      <td>1593139327</td>\n",
       "      <td>1593139332</td>\n",
       "      <td>https://www.reddit.com/r/ADHD/comments/hfzj0q/...</td>\n",
       "      <td>False</td>\n",
       "      <td>False</td>\n",
       "    </tr>\n",
       "    <tr>\n",
       "      <th>1</th>\n",
       "      <td>CookiePriest</td>\n",
       "      <td>1</td>\n",
       "      <td>Cant stop being annoying/awkward</td>\n",
       "      <td>I don't mind the poor motivation or focus that...</td>\n",
       "      <td>1593139141</td>\n",
       "      <td>1593139145</td>\n",
       "      <td>https://www.reddit.com/r/ADHD/comments/hfzhfc/...</td>\n",
       "      <td>False</td>\n",
       "      <td>False</td>\n",
       "    </tr>\n",
       "    <tr>\n",
       "      <th>2</th>\n",
       "      <td>uberhyped</td>\n",
       "      <td>1</td>\n",
       "      <td>Speech problems: ADHD or just me?</td>\n",
       "      <td>I often have trouble structuring the ideas I w...</td>\n",
       "      <td>1593138922</td>\n",
       "      <td>1593138926</td>\n",
       "      <td>https://www.reddit.com/r/ADHD/comments/hfzfk8/...</td>\n",
       "      <td>False</td>\n",
       "      <td>False</td>\n",
       "    </tr>\n",
       "    <tr>\n",
       "      <th>3</th>\n",
       "      <td>turtlezeverywhere</td>\n",
       "      <td>1</td>\n",
       "      <td>My psychiatrists seemingly undermines my concerns</td>\n",
       "      <td>One thing I’ve noticed with me On vs Off meds ...</td>\n",
       "      <td>1593138736</td>\n",
       "      <td>1593138738</td>\n",
       "      <td>https://www.reddit.com/r/ADHD/comments/hfzdz6/...</td>\n",
       "      <td>False</td>\n",
       "      <td>False</td>\n",
       "    </tr>\n",
       "    <tr>\n",
       "      <th>4</th>\n",
       "      <td>ToonlinkFTW890</td>\n",
       "      <td>1</td>\n",
       "      <td>Meds are great, until they wear off!</td>\n",
       "      <td>I need to do work, but my ER and booster had w...</td>\n",
       "      <td>1593138607</td>\n",
       "      <td>1593138608</td>\n",
       "      <td>https://www.reddit.com/r/ADHD/comments/hfzcuj/...</td>\n",
       "      <td>False</td>\n",
       "      <td>False</td>\n",
       "    </tr>\n",
       "  </tbody>\n",
       "</table>\n",
       "</div>"
      ],
      "text/plain": [
       "               author  ADHD  \\\n",
       "0  doublePepperoni314     1   \n",
       "1        CookiePriest     1   \n",
       "2           uberhyped     1   \n",
       "3   turtlezeverywhere     1   \n",
       "4      ToonlinkFTW890     1   \n",
       "\n",
       "                                               title  \\\n",
       "0      Imminent Failure? Entering a Coding Immersive   \n",
       "1                   Cant stop being annoying/awkward   \n",
       "2                  Speech problems: ADHD or just me?   \n",
       "3  My psychiatrists seemingly undermines my concerns   \n",
       "4               Meds are great, until they wear off!   \n",
       "\n",
       "                                            selftext  created_utc  \\\n",
       "0   I'm 37(m) and starting a coding immersive on ...   1593139327   \n",
       "1  I don't mind the poor motivation or focus that...   1593139141   \n",
       "2  I often have trouble structuring the ideas I w...   1593138922   \n",
       "3  One thing I’ve noticed with me On vs Off meds ...   1593138736   \n",
       "4  I need to do work, but my ER and booster had w...   1593138607   \n",
       "\n",
       "   retrieved_on                                                url  pinned  \\\n",
       "0    1593139332  https://www.reddit.com/r/ADHD/comments/hfzj0q/...   False   \n",
       "1    1593139145  https://www.reddit.com/r/ADHD/comments/hfzhfc/...   False   \n",
       "2    1593138926  https://www.reddit.com/r/ADHD/comments/hfzfk8/...   False   \n",
       "3    1593138738  https://www.reddit.com/r/ADHD/comments/hfzdz6/...   False   \n",
       "4    1593138608  https://www.reddit.com/r/ADHD/comments/hfzcuj/...   False   \n",
       "\n",
       "   media_only  \n",
       "0       False  \n",
       "1       False  \n",
       "2       False  \n",
       "3       False  \n",
       "4       False  "
      ]
     },
     "execution_count": 32,
     "metadata": {},
     "output_type": "execute_result"
    }
   ],
   "source": [
    "adhd_df.head()"
   ]
  },
  {
   "cell_type": "markdown",
   "metadata": {},
   "source": [
    "---"
   ]
  },
  {
   "cell_type": "markdown",
   "metadata": {},
   "source": [
    "Repeating the above for the Anxiety subreddit."
   ]
  },
  {
   "cell_type": "code",
   "execution_count": 21,
   "metadata": {},
   "outputs": [
    {
     "name": "stdout",
     "output_type": "stream",
     "text": [
      "Starting query 1\n",
      "Starting query 2\n",
      "Starting query 3\n",
      "Starting query 4\n",
      "Starting query 5\n",
      "Starting query 6\n",
      "Starting query 7\n",
      "Starting query 8\n",
      "Starting query 9\n",
      "Starting query 10\n",
      "Starting query 11\n",
      "Starting query 12\n",
      "Starting query 13\n",
      "Starting query 14\n",
      "Starting query 15\n",
      "Starting query 16\n",
      "Starting query 17\n",
      "Starting query 18\n",
      "Starting query 19\n",
      "Starting query 20\n",
      "Saved and completed query and returned 20000 submissions.\n",
      "Reddit text is ready for processing.\n",
      "Last timestamp was 1586828176.\n"
     ]
    }
   ],
   "source": [
    "reddit_query(subreddit='anxiety', n_samples=20000)"
   ]
  },
  {
   "cell_type": "code",
   "execution_count": 23,
   "metadata": {},
   "outputs": [],
   "source": [
    "with open(f'../data/1586828176_raw_anxiety.json', 'r') as f:\n",
    "    anxiety_list = json.load(f)"
   ]
  },
  {
   "cell_type": "code",
   "execution_count": 24,
   "metadata": {},
   "outputs": [
    {
     "data": {
      "text/plain": [
       "20000"
      ]
     },
     "execution_count": 24,
     "metadata": {},
     "output_type": "execute_result"
    }
   ],
   "source": [
    "len(anxiety_list)"
   ]
  },
  {
   "cell_type": "code",
   "execution_count": 25,
   "metadata": {},
   "outputs": [
    {
     "data": {
      "text/plain": [
       "{'all_awardings': [],\n",
       " 'allow_live_comments': False,\n",
       " 'author': '5uperstud83',\n",
       " 'author_flair_css_class': None,\n",
       " 'author_flair_richtext': [],\n",
       " 'author_flair_text': None,\n",
       " 'author_flair_type': 'text',\n",
       " 'author_fullname': 't2_5o7bt50w',\n",
       " 'author_patreon_flair': False,\n",
       " 'author_premium': False,\n",
       " 'awarders': [],\n",
       " 'can_mod_post': False,\n",
       " 'contest_mode': False,\n",
       " 'created_utc': 1593140513,\n",
       " 'domain': 'self.Anxiety',\n",
       " 'full_link': 'https://www.reddit.com/r/Anxiety/comments/hfzswf/im_curious_if_anyone_has_ever_had_severe_muscle/',\n",
       " 'gildings': {},\n",
       " 'id': 'hfzswf',\n",
       " 'is_crosspostable': True,\n",
       " 'is_meta': False,\n",
       " 'is_original_content': False,\n",
       " 'is_reddit_media_domain': False,\n",
       " 'is_robot_indexable': True,\n",
       " 'is_self': True,\n",
       " 'is_video': False,\n",
       " 'link_flair_background_color': '',\n",
       " 'link_flair_css_class': 'daeflair',\n",
       " 'link_flair_richtext': [],\n",
       " 'link_flair_text': 'DAE Questions',\n",
       " 'link_flair_text_color': 'dark',\n",
       " 'link_flair_type': 'text',\n",
       " 'locked': False,\n",
       " 'media_only': False,\n",
       " 'no_follow': True,\n",
       " 'num_comments': 0,\n",
       " 'num_crossposts': 0,\n",
       " 'over_18': False,\n",
       " 'parent_whitelist_status': 'house_only',\n",
       " 'permalink': '/r/Anxiety/comments/hfzswf/im_curious_if_anyone_has_ever_had_severe_muscle/',\n",
       " 'pinned': False,\n",
       " 'pwls': 1,\n",
       " 'retrieved_on': 1593140518,\n",
       " 'score': 1,\n",
       " 'selftext': '\\nI’ve been in horrible health the last several months doctors really aren’t sure at this point what could cause this. Severe pain in my rib cage not on the inside but on the top side sometimes swells where it hurts. Also horrible neck pain and and feels like muscle spasms or cramps on the top of my head and lips and nose go numb.  I’m 36 decent health before this. I was running a 5k every weekend until the weekend before at patty’s day and it’s been down hill from then.',\n",
       " 'send_replies': True,\n",
       " 'spoiler': False,\n",
       " 'stickied': False,\n",
       " 'subreddit': 'Anxiety',\n",
       " 'subreddit_id': 't5_2qmij',\n",
       " 'subreddit_subscribers': 368919,\n",
       " 'subreddit_type': 'public',\n",
       " 'thumbnail': 'self',\n",
       " 'title': 'I’m curious if anyone has ever had severe muscle aches and extreme fatigue due to anxiety????',\n",
       " 'total_awards_received': 0,\n",
       " 'treatment_tags': [],\n",
       " 'upvote_ratio': 1.0,\n",
       " 'url': 'https://www.reddit.com/r/Anxiety/comments/hfzswf/im_curious_if_anyone_has_ever_had_severe_muscle/',\n",
       " 'whitelist_status': 'house_only',\n",
       " 'wls': 1}"
      ]
     },
     "execution_count": 25,
     "metadata": {},
     "output_type": "execute_result"
    }
   ],
   "source": [
    "anxiety_list[0]"
   ]
  },
  {
   "cell_type": "code",
   "execution_count": 33,
   "metadata": {},
   "outputs": [],
   "source": [
    "anxiety_df = reddit_parse(anxiety_list, 'Anxiety')"
   ]
  },
  {
   "cell_type": "code",
   "execution_count": 34,
   "metadata": {},
   "outputs": [
    {
     "data": {
      "text/plain": [
       "1    20000\n",
       "Name: Anxiety, dtype: int64"
      ]
     },
     "execution_count": 34,
     "metadata": {},
     "output_type": "execute_result"
    }
   ],
   "source": [
    "anxiety_df.Anxiety.value_counts()"
   ]
  },
  {
   "cell_type": "code",
   "execution_count": 35,
   "metadata": {},
   "outputs": [
    {
     "data": {
      "text/html": [
       "<div>\n",
       "<style scoped>\n",
       "    .dataframe tbody tr th:only-of-type {\n",
       "        vertical-align: middle;\n",
       "    }\n",
       "\n",
       "    .dataframe tbody tr th {\n",
       "        vertical-align: top;\n",
       "    }\n",
       "\n",
       "    .dataframe thead th {\n",
       "        text-align: right;\n",
       "    }\n",
       "</style>\n",
       "<table border=\"1\" class=\"dataframe\">\n",
       "  <thead>\n",
       "    <tr style=\"text-align: right;\">\n",
       "      <th></th>\n",
       "      <th>author</th>\n",
       "      <th>Anxiety</th>\n",
       "      <th>title</th>\n",
       "      <th>selftext</th>\n",
       "      <th>created_utc</th>\n",
       "      <th>retrieved_on</th>\n",
       "      <th>url</th>\n",
       "      <th>pinned</th>\n",
       "      <th>media_only</th>\n",
       "    </tr>\n",
       "  </thead>\n",
       "  <tbody>\n",
       "    <tr>\n",
       "      <th>0</th>\n",
       "      <td>5uperstud83</td>\n",
       "      <td>1</td>\n",
       "      <td>I’m curious if anyone has ever had severe musc...</td>\n",
       "      <td>\\nI’ve been in horrible health the last severa...</td>\n",
       "      <td>1593140513</td>\n",
       "      <td>1593140518</td>\n",
       "      <td>https://www.reddit.com/r/Anxiety/comments/hfzs...</td>\n",
       "      <td>False</td>\n",
       "      <td>False</td>\n",
       "    </tr>\n",
       "    <tr>\n",
       "      <th>1</th>\n",
       "      <td>Adept_Owl</td>\n",
       "      <td>1</td>\n",
       "      <td>Anyone else with vivid anxiety? (Possible trig...</td>\n",
       "      <td>By vivid I mean where scenarios run through yo...</td>\n",
       "      <td>1593139976</td>\n",
       "      <td>1593139977</td>\n",
       "      <td>https://www.reddit.com/r/Anxiety/comments/hfzo...</td>\n",
       "      <td>False</td>\n",
       "      <td>False</td>\n",
       "    </tr>\n",
       "    <tr>\n",
       "      <th>2</th>\n",
       "      <td>Ccerberus667</td>\n",
       "      <td>1</td>\n",
       "      <td>I have anxiety about certain technology like A...</td>\n",
       "      <td>The root of my anxiety that I've had for a few...</td>\n",
       "      <td>1593139906</td>\n",
       "      <td>1593139909</td>\n",
       "      <td>https://www.reddit.com/r/Anxiety/comments/hfzn...</td>\n",
       "      <td>False</td>\n",
       "      <td>False</td>\n",
       "    </tr>\n",
       "    <tr>\n",
       "      <th>3</th>\n",
       "      <td>FinickyFlamingo1</td>\n",
       "      <td>1</td>\n",
       "      <td>My parents are signing me up for disability an...</td>\n",
       "      <td>I want money, yes. But the fact that I'm recei...</td>\n",
       "      <td>1593139760</td>\n",
       "      <td>1593139766</td>\n",
       "      <td>https://www.reddit.com/r/Anxiety/comments/hfzm...</td>\n",
       "      <td>False</td>\n",
       "      <td>False</td>\n",
       "    </tr>\n",
       "    <tr>\n",
       "      <th>4</th>\n",
       "      <td>niajtima23</td>\n",
       "      <td>1</td>\n",
       "      <td>Compulsive exercise (running)</td>\n",
       "      <td>when I first started exercising and began a re...</td>\n",
       "      <td>1593139752</td>\n",
       "      <td>1593139757</td>\n",
       "      <td>https://www.reddit.com/r/Anxiety/comments/hfzm...</td>\n",
       "      <td>False</td>\n",
       "      <td>False</td>\n",
       "    </tr>\n",
       "  </tbody>\n",
       "</table>\n",
       "</div>"
      ],
      "text/plain": [
       "             author  Anxiety  \\\n",
       "0       5uperstud83        1   \n",
       "1         Adept_Owl        1   \n",
       "2      Ccerberus667        1   \n",
       "3  FinickyFlamingo1        1   \n",
       "4        niajtima23        1   \n",
       "\n",
       "                                               title  \\\n",
       "0  I’m curious if anyone has ever had severe musc...   \n",
       "1  Anyone else with vivid anxiety? (Possible trig...   \n",
       "2  I have anxiety about certain technology like A...   \n",
       "3  My parents are signing me up for disability an...   \n",
       "4                      Compulsive exercise (running)   \n",
       "\n",
       "                                            selftext  created_utc  \\\n",
       "0  \\nI’ve been in horrible health the last severa...   1593140513   \n",
       "1  By vivid I mean where scenarios run through yo...   1593139976   \n",
       "2  The root of my anxiety that I've had for a few...   1593139906   \n",
       "3  I want money, yes. But the fact that I'm recei...   1593139760   \n",
       "4  when I first started exercising and began a re...   1593139752   \n",
       "\n",
       "   retrieved_on                                                url  pinned  \\\n",
       "0    1593140518  https://www.reddit.com/r/Anxiety/comments/hfzs...   False   \n",
       "1    1593139977  https://www.reddit.com/r/Anxiety/comments/hfzo...   False   \n",
       "2    1593139909  https://www.reddit.com/r/Anxiety/comments/hfzn...   False   \n",
       "3    1593139766  https://www.reddit.com/r/Anxiety/comments/hfzm...   False   \n",
       "4    1593139757  https://www.reddit.com/r/Anxiety/comments/hfzm...   False   \n",
       "\n",
       "   media_only  \n",
       "0       False  \n",
       "1       False  \n",
       "2       False  \n",
       "3       False  \n",
       "4       False  "
      ]
     },
     "execution_count": 35,
     "metadata": {},
     "output_type": "execute_result"
    }
   ],
   "source": [
    "anxiety_df.head()"
   ]
  },
  {
   "cell_type": "markdown",
   "metadata": {},
   "source": [
    "---"
   ]
  },
  {
   "cell_type": "markdown",
   "metadata": {},
   "source": [
    "Now that I have both dataframes ready to go, I will merge them into one for easier cleaning of their contents."
   ]
  },
  {
   "cell_type": "code",
   "execution_count": 36,
   "metadata": {},
   "outputs": [],
   "source": [
    "merged_df = pd.merge(anxiety_df, adhd_df, how='outer')"
   ]
  },
  {
   "cell_type": "code",
   "execution_count": 40,
   "metadata": {},
   "outputs": [
    {
     "name": "stdout",
     "output_type": "stream",
     "text": [
      "<class 'pandas.core.frame.DataFrame'>\n",
      "Int64Index: 40000 entries, 0 to 39999\n",
      "Data columns (total 10 columns):\n",
      " #   Column        Non-Null Count  Dtype  \n",
      "---  ------        --------------  -----  \n",
      " 0   author        40000 non-null  object \n",
      " 1   Anxiety       20000 non-null  float64\n",
      " 2   title         40000 non-null  object \n",
      " 3   selftext      39640 non-null  object \n",
      " 4   created_utc   40000 non-null  int64  \n",
      " 5   retrieved_on  40000 non-null  int64  \n",
      " 6   url           40000 non-null  object \n",
      " 7   pinned        40000 non-null  object \n",
      " 8   media_only    40000 non-null  object \n",
      " 9   ADHD          20000 non-null  float64\n",
      "dtypes: float64(2), int64(2), object(6)\n",
      "memory usage: 3.4+ MB\n"
     ]
    }
   ],
   "source": [
    "merged_df.info()"
   ]
  },
  {
   "cell_type": "code",
   "execution_count": 37,
   "metadata": {},
   "outputs": [
    {
     "data": {
      "text/plain": [
       "author              0\n",
       "Anxiety         20000\n",
       "title               0\n",
       "selftext          360\n",
       "created_utc         0\n",
       "retrieved_on        0\n",
       "url                 0\n",
       "pinned              0\n",
       "media_only          0\n",
       "ADHD            20000\n",
       "dtype: int64"
      ]
     },
     "execution_count": 37,
     "metadata": {},
     "output_type": "execute_result"
    }
   ],
   "source": [
    "merged_df.isna().sum()"
   ]
  },
  {
   "cell_type": "markdown",
   "metadata": {},
   "source": [
    "As we can see, all the ADHD posts have missing values for the subreddit's name column for Anxiety posts, and vice versa, so I will keep one of them, and fill in zeroes for the rest. There are 360 posts that have no text in the body of the post, which means they only have titles, I will drop those. "
   ]
  },
  {
   "cell_type": "code",
   "execution_count": 42,
   "metadata": {},
   "outputs": [],
   "source": [
    "merged_df.fillna(0, inplace=True)"
   ]
  },
  {
   "cell_type": "markdown",
   "metadata": {},
   "source": [
    "Checking for and dropping duplicate posts (i.e. posts that have the exact same title and author)."
   ]
  },
  {
   "cell_type": "code",
   "execution_count": 43,
   "metadata": {},
   "outputs": [
    {
     "data": {
      "text/plain": [
       "False    39540\n",
       "True       460\n",
       "dtype: int64"
      ]
     },
     "execution_count": 43,
     "metadata": {},
     "output_type": "execute_result"
    }
   ],
   "source": [
    "merged_df.duplicated(subset=['title', 'author']).value_counts()"
   ]
  },
  {
   "cell_type": "markdown",
   "metadata": {},
   "source": [
    "Looks like we only have 460 duplicates, so going to drop those."
   ]
  },
  {
   "cell_type": "code",
   "execution_count": 44,
   "metadata": {},
   "outputs": [],
   "source": [
    "merged_df.drop_duplicates(subset=['title', 'author'], inplace=True)"
   ]
  },
  {
   "cell_type": "markdown",
   "metadata": {},
   "source": [
    "Final check to make sure everything looks good."
   ]
  },
  {
   "cell_type": "code",
   "execution_count": 45,
   "metadata": {},
   "outputs": [
    {
     "name": "stdout",
     "output_type": "stream",
     "text": [
      "<class 'pandas.core.frame.DataFrame'>\n",
      "Int64Index: 39540 entries, 0 to 39999\n",
      "Data columns (total 10 columns):\n",
      " #   Column        Non-Null Count  Dtype  \n",
      "---  ------        --------------  -----  \n",
      " 0   author        39540 non-null  object \n",
      " 1   Anxiety       39540 non-null  float64\n",
      " 2   title         39540 non-null  object \n",
      " 3   selftext      39540 non-null  object \n",
      " 4   created_utc   39540 non-null  int64  \n",
      " 5   retrieved_on  39540 non-null  int64  \n",
      " 6   url           39540 non-null  object \n",
      " 7   pinned        39540 non-null  bool   \n",
      " 8   media_only    39540 non-null  bool   \n",
      " 9   ADHD          39540 non-null  float64\n",
      "dtypes: bool(2), float64(2), int64(2), object(4)\n",
      "memory usage: 2.8+ MB\n"
     ]
    }
   ],
   "source": [
    "merged_df.info()"
   ]
  },
  {
   "cell_type": "markdown",
   "metadata": {},
   "source": [
    "Saving out to a do more rigorous cleaning in a separate notebook."
   ]
  },
  {
   "cell_type": "code",
   "execution_count": 47,
   "metadata": {},
   "outputs": [],
   "source": [
    "merged_df.to_csv('../data/merged.csv')"
   ]
  }
 ],
 "metadata": {
  "kernelspec": {
   "display_name": "Python 3",
   "language": "python",
   "name": "python3"
  },
  "language_info": {
   "codemirror_mode": {
    "name": "ipython",
    "version": 3
   },
   "file_extension": ".py",
   "mimetype": "text/x-python",
   "name": "python",
   "nbconvert_exporter": "python",
   "pygments_lexer": "ipython3",
   "version": "3.7.3"
  }
 },
 "nbformat": 4,
 "nbformat_minor": 4
}
