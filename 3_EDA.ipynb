{
 "cells": [
  {
   "cell_type": "markdown",
   "metadata": {},
   "source": [
    "# Exploratory Data Analysis"
   ]
  },
  {
   "cell_type": "code",
   "execution_count": 59,
   "metadata": {},
   "outputs": [],
   "source": [
    "import pandas as pd\n",
    "import numpy as np\n",
    "import matplotlib.pyplot as plt\n",
    "from nltk.corpus import stopwords\n",
    "from sklearn.feature_extraction.text import CountVectorizer, ENGLISH_STOP_WORDS\n",
    "%matplotlib inline"
   ]
  },
  {
   "cell_type": "code",
   "execution_count": 29,
   "metadata": {},
   "outputs": [],
   "source": [
    "df = pd.read_csv('./data/clean.csv', index_col='Unnamed: 0')"
   ]
  },
  {
   "cell_type": "code",
   "execution_count": 30,
   "metadata": {},
   "outputs": [
    {
     "data": {
      "text/html": [
       "<div>\n",
       "<style scoped>\n",
       "    .dataframe tbody tr th:only-of-type {\n",
       "        vertical-align: middle;\n",
       "    }\n",
       "\n",
       "    .dataframe tbody tr th {\n",
       "        vertical-align: top;\n",
       "    }\n",
       "\n",
       "    .dataframe thead th {\n",
       "        text-align: right;\n",
       "    }\n",
       "</style>\n",
       "<table border=\"1\" class=\"dataframe\">\n",
       "  <thead>\n",
       "    <tr style=\"text-align: right;\">\n",
       "      <th></th>\n",
       "      <th>author</th>\n",
       "      <th>anxiety</th>\n",
       "      <th>title</th>\n",
       "      <th>selftext</th>\n",
       "      <th>created_utc</th>\n",
       "      <th>retrieved_on</th>\n",
       "      <th>url</th>\n",
       "      <th>pinned</th>\n",
       "      <th>media_only</th>\n",
       "      <th>adhd</th>\n",
       "    </tr>\n",
       "  </thead>\n",
       "  <tbody>\n",
       "    <tr>\n",
       "      <th>0</th>\n",
       "      <td>ZorroNegro</td>\n",
       "      <td>1.0</td>\n",
       "      <td>Please, I need help</td>\n",
       "      <td>My friend asked me to be his best man for his ...</td>\n",
       "      <td>1554340190</td>\n",
       "      <td>1554340191</td>\n",
       "      <td>https://www.reddit.com/r/Anxiety/comments/b96c...</td>\n",
       "      <td>False</td>\n",
       "      <td>False</td>\n",
       "      <td>0.0</td>\n",
       "    </tr>\n",
       "    <tr>\n",
       "      <th>1</th>\n",
       "      <td>PupperinoSuprimo</td>\n",
       "      <td>1.0</td>\n",
       "      <td>If you'll never really know, let that damn tho...</td>\n",
       "      <td>Lately, this has become a sort of mantra Ive s...</td>\n",
       "      <td>1554338785</td>\n",
       "      <td>1554338785</td>\n",
       "      <td>https://www.reddit.com/r/Anxiety/comments/b964...</td>\n",
       "      <td>False</td>\n",
       "      <td>False</td>\n",
       "      <td>0.0</td>\n",
       "    </tr>\n",
       "    <tr>\n",
       "      <th>2</th>\n",
       "      <td>moake740</td>\n",
       "      <td>1.0</td>\n",
       "      <td>Feeling like such a failure</td>\n",
       "      <td>I suck, I haven’t been taking my meds a prescr...</td>\n",
       "      <td>1554338572</td>\n",
       "      <td>1554338573</td>\n",
       "      <td>https://www.reddit.com/r/Anxiety/comments/b963...</td>\n",
       "      <td>False</td>\n",
       "      <td>False</td>\n",
       "      <td>0.0</td>\n",
       "    </tr>\n",
       "    <tr>\n",
       "      <th>3</th>\n",
       "      <td>ketchuptiles</td>\n",
       "      <td>1.0</td>\n",
       "      <td>Rolling anxiety attacks?</td>\n",
       "      <td>Hey everyone,  I could really use your collect...</td>\n",
       "      <td>1554338312</td>\n",
       "      <td>1554338313</td>\n",
       "      <td>https://www.reddit.com/r/Anxiety/comments/b961...</td>\n",
       "      <td>False</td>\n",
       "      <td>False</td>\n",
       "      <td>0.0</td>\n",
       "    </tr>\n",
       "    <tr>\n",
       "      <th>5</th>\n",
       "      <td>SageLukahn</td>\n",
       "      <td>1.0</td>\n",
       "      <td>Why I don't try new things.</td>\n",
       "      <td>I am on a diet (keto). It is not a particularl...</td>\n",
       "      <td>1554337837</td>\n",
       "      <td>1554337838</td>\n",
       "      <td>https://www.reddit.com/r/Anxiety/comments/b95y...</td>\n",
       "      <td>False</td>\n",
       "      <td>False</td>\n",
       "      <td>0.0</td>\n",
       "    </tr>\n",
       "  </tbody>\n",
       "</table>\n",
       "</div>"
      ],
      "text/plain": [
       "             author  anxiety  \\\n",
       "0        ZorroNegro      1.0   \n",
       "1  PupperinoSuprimo      1.0   \n",
       "2          moake740      1.0   \n",
       "3      ketchuptiles      1.0   \n",
       "5        SageLukahn      1.0   \n",
       "\n",
       "                                               title  \\\n",
       "0                                Please, I need help   \n",
       "1  If you'll never really know, let that damn tho...   \n",
       "2                        Feeling like such a failure   \n",
       "3                           Rolling anxiety attacks?   \n",
       "5                        Why I don't try new things.   \n",
       "\n",
       "                                            selftext  created_utc  \\\n",
       "0  My friend asked me to be his best man for his ...   1554340190   \n",
       "1  Lately, this has become a sort of mantra Ive s...   1554338785   \n",
       "2  I suck, I haven’t been taking my meds a prescr...   1554338572   \n",
       "3  Hey everyone,  I could really use your collect...   1554338312   \n",
       "5  I am on a diet (keto). It is not a particularl...   1554337837   \n",
       "\n",
       "   retrieved_on                                                url  pinned  \\\n",
       "0    1554340191  https://www.reddit.com/r/Anxiety/comments/b96c...   False   \n",
       "1    1554338785  https://www.reddit.com/r/Anxiety/comments/b964...   False   \n",
       "2    1554338573  https://www.reddit.com/r/Anxiety/comments/b963...   False   \n",
       "3    1554338313  https://www.reddit.com/r/Anxiety/comments/b961...   False   \n",
       "5    1554337838  https://www.reddit.com/r/Anxiety/comments/b95y...   False   \n",
       "\n",
       "   media_only  adhd  \n",
       "0       False   0.0  \n",
       "1       False   0.0  \n",
       "2       False   0.0  \n",
       "3       False   0.0  \n",
       "5       False   0.0  "
      ]
     },
     "execution_count": 30,
     "metadata": {},
     "output_type": "execute_result"
    }
   ],
   "source": [
    "df.head()"
   ]
  },
  {
   "cell_type": "markdown",
   "metadata": {},
   "source": [
    "Creating columns for word and character counts for the subreddit posts"
   ]
  },
  {
   "cell_type": "code",
   "execution_count": 31,
   "metadata": {},
   "outputs": [],
   "source": [
    "df['char_count'] = df.selftext.map(len)"
   ]
  },
  {
   "cell_type": "code",
   "execution_count": 32,
   "metadata": {},
   "outputs": [],
   "source": [
    "df['word_count'] = df.selftext.map(lambda x: len(x.split()))"
   ]
  },
  {
   "cell_type": "code",
   "execution_count": 33,
   "metadata": {},
   "outputs": [
    {
     "data": {
      "text/plain": [
       "adhd\n",
       "0.0    966.108905\n",
       "1.0    890.806593\n",
       "Name: char_count, dtype: float64"
      ]
     },
     "execution_count": 33,
     "metadata": {},
     "output_type": "execute_result"
    }
   ],
   "source": [
    "df.char_count.groupby(df.adhd).mean()"
   ]
  },
  {
   "cell_type": "code",
   "execution_count": 34,
   "metadata": {},
   "outputs": [
    {
     "data": {
      "text/plain": [
       "adhd\n",
       "0.0    184.699376\n",
       "1.0    165.465385\n",
       "Name: word_count, dtype: float64"
      ]
     },
     "execution_count": 34,
     "metadata": {},
     "output_type": "execute_result"
    }
   ],
   "source": [
    "df.word_count.groupby(df.adhd).mean()"
   ]
  },
  {
   "cell_type": "markdown",
   "metadata": {},
   "source": [
    "As we can see, the average word and character counts for posts is higher for the Anxiety subreddit, 185 and 966, respectively. Below are some visualizations of these distributions. "
   ]
  },
  {
   "cell_type": "code",
   "execution_count": 35,
   "metadata": {},
   "outputs": [
    {
     "data": {
      "text/plain": [
       "<matplotlib.legend.Legend at 0x1a22f7ce10>"
      ]
     },
     "execution_count": 35,
     "metadata": {},
     "output_type": "execute_result"
    },
    {
     "data": {
      "image/png": "[encoded data removed]",
      "text/plain": [
       "<Figure size 1080x720 with 1 Axes>"
      ]
     },
     "metadata": {
      "needs_background": "light"
     },
     "output_type": "display_data"
    }
   ],
   "source": [
    "plt.figure(figsize=(15,10))\n",
    "plt.hist([df[df['adhd']==0]['char_count'], \n",
    "          df[df['adhd']==1]['char_count']],\n",
    "         bins=20, color=['goldenrod', 'grey'], ec='k')\n",
    "plt.title('Character Count by Class', fontsize=30)\n",
    "plt.legend(['Anxiety', 'ADHD'], fontsize=20)"
   ]
  },
  {
   "cell_type": "code",
   "execution_count": 155,
   "metadata": {},
   "outputs": [
    {
     "data": {
      "image/png": "[encoded data removed]",
      "text/plain": [
       "<Figure size 1080x720 with 1 Axes>"
      ]
     },
     "metadata": {
      "needs_background": "light"
     },
     "output_type": "display_data"
    }
   ],
   "source": [
    "plt.figure(figsize=(15,10))\n",
    "plt.hist([df[df['adhd']==0]['word_count'], \n",
    "          df[df['adhd']==1]['word_count']],\n",
    "         bins=20, color=['goldenrod', 'grey'], ec='k')\n",
    "plt.title('Word Count by Class', fontsize=30)\n",
    "plt.legend(['Anxiety', 'ADHD'], fontsize=20)\n",
    "plt.savefig('./assets/wordcount.png')"
   ]
  },
  {
   "cell_type": "markdown",
   "metadata": {},
   "source": [
    "As is expected, the vast majority of posts in both subreddits are very short, with very few posts having over 1000 words (hence the long right tails of the distributions). "
   ]
  },
  {
   "cell_type": "markdown",
   "metadata": {},
   "source": [
    "---"
   ]
  },
  {
   "cell_type": "markdown",
   "metadata": {},
   "source": [
    "Now we'll move on to more advanced natural language processing (NLP). Before that, however, I am going to add some custom stop_words that aren't included in the default Sklearn library. Stop words are very common words that do not convey much meaning, which we explicitly tell our models to ignore."
   ]
  },
  {
   "cell_type": "code",
   "execution_count": 139,
   "metadata": {},
   "outputs": [],
   "source": [
    "custom_words = frozenset(['just', 'like', 'im', 'ive', 've', 'really', 'dont', 'don'])"
   ]
  },
  {
   "cell_type": "code",
   "execution_count": 140,
   "metadata": {},
   "outputs": [],
   "source": [
    "stopwords = ENGLISH_STOP_WORDS.union(custom_words)"
   ]
  },
  {
   "cell_type": "markdown",
   "metadata": {},
   "source": [
    "Using CountVectorizer for all posts, which takes all the words in the posts and creates columns of them containing the word's prevalence (i.e. frequency count). "
   ]
  },
  {
   "cell_type": "code",
   "execution_count": 141,
   "metadata": {},
   "outputs": [],
   "source": [
    "cvec = CountVectorizer(stop_words=stopwords, min_df=5, max_df=1.0)"
   ]
  },
  {
   "cell_type": "markdown",
   "metadata": {},
   "source": [
    "I set the minimum document frequency to be 5 (i.e. words must be in at least 5 documents to be included). Setting the max_df to 1.0 means that no words will be left out because they are too common (but hopefully using the custom stop words will eliminate some of the noise)."
   ]
  },
  {
   "cell_type": "code",
   "execution_count": 142,
   "metadata": {},
   "outputs": [],
   "source": [
    "term_matrix = cvec.fit_transform(df['selftext'])"
   ]
  },
  {
   "cell_type": "code",
   "execution_count": 143,
   "metadata": {},
   "outputs": [
    {
     "data": {
      "text/plain": [
       "4645"
      ]
     },
     "execution_count": 143,
     "metadata": {},
     "output_type": "execute_result"
    }
   ],
   "source": [
    "len(cvec.get_feature_names())"
   ]
  },
  {
   "cell_type": "markdown",
   "metadata": {},
   "source": [
    "After all the cleaning and excluding stop words, we are left with over 4600 words. "
   ]
  },
  {
   "cell_type": "code",
   "execution_count": 144,
   "metadata": {},
   "outputs": [],
   "source": [
    "term_df = pd.DataFrame(term_matrix.toarray(), columns=cvec.get_feature_names())"
   ]
  },
  {
   "cell_type": "markdown",
   "metadata": {},
   "source": [
    "Putting the ADHD column back into the dataframe."
   ]
  },
  {
   "cell_type": "code",
   "execution_count": 145,
   "metadata": {},
   "outputs": [],
   "source": [
    "term_df.insert(0, 'ADHD', df.adhd)"
   ]
  },
  {
   "cell_type": "code",
   "execution_count": 146,
   "metadata": {},
   "outputs": [
    {
     "data": {
      "text/html": [
       "<div>\n",
       "<style scoped>\n",
       "    .dataframe tbody tr th:only-of-type {\n",
       "        vertical-align: middle;\n",
       "    }\n",
       "\n",
       "    .dataframe tbody tr th {\n",
       "        vertical-align: top;\n",
       "    }\n",
       "\n",
       "    .dataframe thead th {\n",
       "        text-align: right;\n",
       "    }\n",
       "</style>\n",
       "<table border=\"1\" class=\"dataframe\">\n",
       "  <thead>\n",
       "    <tr style=\"text-align: right;\">\n",
       "      <th></th>\n",
       "      <th>ADHD</th>\n",
       "      <th>00</th>\n",
       "      <th>000</th>\n",
       "      <th>03</th>\n",
       "      <th>10</th>\n",
       "      <th>100</th>\n",
       "      <th>1000</th>\n",
       "      <th>100mg</th>\n",
       "      <th>10mg</th>\n",
       "      <th>10th</th>\n",
       "      <th>...</th>\n",
       "      <th>youtu</th>\n",
       "      <th>youtube</th>\n",
       "      <th>youve</th>\n",
       "      <th>yr</th>\n",
       "      <th>zero</th>\n",
       "      <th>zoloft</th>\n",
       "      <th>zombie</th>\n",
       "      <th>zone</th>\n",
       "      <th>zoned</th>\n",
       "      <th>zoning</th>\n",
       "    </tr>\n",
       "  </thead>\n",
       "  <tbody>\n",
       "    <tr>\n",
       "      <th>0</th>\n",
       "      <td>0.0</td>\n",
       "      <td>0</td>\n",
       "      <td>0</td>\n",
       "      <td>0</td>\n",
       "      <td>0</td>\n",
       "      <td>0</td>\n",
       "      <td>0</td>\n",
       "      <td>0</td>\n",
       "      <td>0</td>\n",
       "      <td>0</td>\n",
       "      <td>...</td>\n",
       "      <td>0</td>\n",
       "      <td>0</td>\n",
       "      <td>0</td>\n",
       "      <td>0</td>\n",
       "      <td>0</td>\n",
       "      <td>0</td>\n",
       "      <td>0</td>\n",
       "      <td>0</td>\n",
       "      <td>0</td>\n",
       "      <td>0</td>\n",
       "    </tr>\n",
       "    <tr>\n",
       "      <th>1</th>\n",
       "      <td>0.0</td>\n",
       "      <td>0</td>\n",
       "      <td>0</td>\n",
       "      <td>0</td>\n",
       "      <td>0</td>\n",
       "      <td>0</td>\n",
       "      <td>0</td>\n",
       "      <td>0</td>\n",
       "      <td>0</td>\n",
       "      <td>0</td>\n",
       "      <td>...</td>\n",
       "      <td>0</td>\n",
       "      <td>0</td>\n",
       "      <td>0</td>\n",
       "      <td>0</td>\n",
       "      <td>0</td>\n",
       "      <td>0</td>\n",
       "      <td>0</td>\n",
       "      <td>0</td>\n",
       "      <td>0</td>\n",
       "      <td>0</td>\n",
       "    </tr>\n",
       "    <tr>\n",
       "      <th>2</th>\n",
       "      <td>0.0</td>\n",
       "      <td>0</td>\n",
       "      <td>0</td>\n",
       "      <td>0</td>\n",
       "      <td>0</td>\n",
       "      <td>0</td>\n",
       "      <td>0</td>\n",
       "      <td>0</td>\n",
       "      <td>0</td>\n",
       "      <td>0</td>\n",
       "      <td>...</td>\n",
       "      <td>0</td>\n",
       "      <td>0</td>\n",
       "      <td>0</td>\n",
       "      <td>0</td>\n",
       "      <td>0</td>\n",
       "      <td>0</td>\n",
       "      <td>0</td>\n",
       "      <td>0</td>\n",
       "      <td>0</td>\n",
       "      <td>0</td>\n",
       "    </tr>\n",
       "    <tr>\n",
       "      <th>3</th>\n",
       "      <td>0.0</td>\n",
       "      <td>0</td>\n",
       "      <td>0</td>\n",
       "      <td>0</td>\n",
       "      <td>1</td>\n",
       "      <td>0</td>\n",
       "      <td>0</td>\n",
       "      <td>0</td>\n",
       "      <td>0</td>\n",
       "      <td>0</td>\n",
       "      <td>...</td>\n",
       "      <td>0</td>\n",
       "      <td>0</td>\n",
       "      <td>0</td>\n",
       "      <td>0</td>\n",
       "      <td>0</td>\n",
       "      <td>0</td>\n",
       "      <td>0</td>\n",
       "      <td>0</td>\n",
       "      <td>0</td>\n",
       "      <td>0</td>\n",
       "    </tr>\n",
       "    <tr>\n",
       "      <th>4</th>\n",
       "      <td>NaN</td>\n",
       "      <td>0</td>\n",
       "      <td>0</td>\n",
       "      <td>0</td>\n",
       "      <td>0</td>\n",
       "      <td>0</td>\n",
       "      <td>0</td>\n",
       "      <td>0</td>\n",
       "      <td>0</td>\n",
       "      <td>0</td>\n",
       "      <td>...</td>\n",
       "      <td>0</td>\n",
       "      <td>0</td>\n",
       "      <td>0</td>\n",
       "      <td>0</td>\n",
       "      <td>0</td>\n",
       "      <td>0</td>\n",
       "      <td>0</td>\n",
       "      <td>0</td>\n",
       "      <td>0</td>\n",
       "      <td>0</td>\n",
       "    </tr>\n",
       "  </tbody>\n",
       "</table>\n",
       "<p>5 rows × 4646 columns</p>\n",
       "</div>"
      ],
      "text/plain": [
       "   ADHD  00  000  03  10  100  1000  100mg  10mg  10th  ...  youtu  youtube  \\\n",
       "0   0.0   0    0   0   0    0     0      0     0     0  ...      0        0   \n",
       "1   0.0   0    0   0   0    0     0      0     0     0  ...      0        0   \n",
       "2   0.0   0    0   0   0    0     0      0     0     0  ...      0        0   \n",
       "3   0.0   0    0   0   1    0     0      0     0     0  ...      0        0   \n",
       "4   NaN   0    0   0   0    0     0      0     0     0  ...      0        0   \n",
       "\n",
       "   youve  yr  zero  zoloft  zombie  zone  zoned  zoning  \n",
       "0      0   0     0       0       0     0      0       0  \n",
       "1      0   0     0       0       0     0      0       0  \n",
       "2      0   0     0       0       0     0      0       0  \n",
       "3      0   0     0       0       0     0      0       0  \n",
       "4      0   0     0       0       0     0      0       0  \n",
       "\n",
       "[5 rows x 4646 columns]"
      ]
     },
     "execution_count": 146,
     "metadata": {},
     "output_type": "execute_result"
    }
   ],
   "source": [
    "term_df.head()"
   ]
  },
  {
   "cell_type": "markdown",
   "metadata": {},
   "source": [
    "Now looking at a snapshot of distributions for the words between the ADHD and Anxiety subreddits."
   ]
  },
  {
   "cell_type": "code",
   "execution_count": 147,
   "metadata": {},
   "outputs": [
    {
     "data": {
      "text/html": [
       "<div>\n",
       "<style scoped>\n",
       "    .dataframe tbody tr th:only-of-type {\n",
       "        vertical-align: middle;\n",
       "    }\n",
       "\n",
       "    .dataframe tbody tr th {\n",
       "        vertical-align: top;\n",
       "    }\n",
       "\n",
       "    .dataframe thead th {\n",
       "        text-align: right;\n",
       "    }\n",
       "</style>\n",
       "<table border=\"1\" class=\"dataframe\">\n",
       "  <thead>\n",
       "    <tr style=\"text-align: right;\">\n",
       "      <th></th>\n",
       "      <th>00</th>\n",
       "      <th>000</th>\n",
       "      <th>03</th>\n",
       "      <th>10</th>\n",
       "      <th>100</th>\n",
       "      <th>1000</th>\n",
       "      <th>100mg</th>\n",
       "      <th>10mg</th>\n",
       "      <th>10th</th>\n",
       "      <th>10x</th>\n",
       "      <th>...</th>\n",
       "      <th>youtu</th>\n",
       "      <th>youtube</th>\n",
       "      <th>youve</th>\n",
       "      <th>yr</th>\n",
       "      <th>zero</th>\n",
       "      <th>zoloft</th>\n",
       "      <th>zombie</th>\n",
       "      <th>zone</th>\n",
       "      <th>zoned</th>\n",
       "      <th>zoning</th>\n",
       "    </tr>\n",
       "    <tr>\n",
       "      <th>ADHD</th>\n",
       "      <th></th>\n",
       "      <th></th>\n",
       "      <th></th>\n",
       "      <th></th>\n",
       "      <th></th>\n",
       "      <th></th>\n",
       "      <th></th>\n",
       "      <th></th>\n",
       "      <th></th>\n",
       "      <th></th>\n",
       "      <th></th>\n",
       "      <th></th>\n",
       "      <th></th>\n",
       "      <th></th>\n",
       "      <th></th>\n",
       "      <th></th>\n",
       "      <th></th>\n",
       "      <th></th>\n",
       "      <th></th>\n",
       "      <th></th>\n",
       "      <th></th>\n",
       "    </tr>\n",
       "  </thead>\n",
       "  <tbody>\n",
       "    <tr>\n",
       "      <th>0.0</th>\n",
       "      <td>0.004538</td>\n",
       "      <td>0.002836</td>\n",
       "      <td>0.003403</td>\n",
       "      <td>0.041974</td>\n",
       "      <td>0.028361</td>\n",
       "      <td>0.001702</td>\n",
       "      <td>0.003403</td>\n",
       "      <td>0.009643</td>\n",
       "      <td>0.000567</td>\n",
       "      <td>0.001702</td>\n",
       "      <td>...</td>\n",
       "      <td>0.003403</td>\n",
       "      <td>0.010210</td>\n",
       "      <td>0.009643</td>\n",
       "      <td>0.003403</td>\n",
       "      <td>0.005105</td>\n",
       "      <td>0.017016</td>\n",
       "      <td>0.003971</td>\n",
       "      <td>0.015315</td>\n",
       "      <td>0.000567</td>\n",
       "      <td>0.000000</td>\n",
       "    </tr>\n",
       "    <tr>\n",
       "      <th>1.0</th>\n",
       "      <td>0.006250</td>\n",
       "      <td>0.002778</td>\n",
       "      <td>0.004167</td>\n",
       "      <td>0.084028</td>\n",
       "      <td>0.021528</td>\n",
       "      <td>0.000694</td>\n",
       "      <td>0.001389</td>\n",
       "      <td>0.027083</td>\n",
       "      <td>0.003472</td>\n",
       "      <td>0.002083</td>\n",
       "      <td>...</td>\n",
       "      <td>0.004167</td>\n",
       "      <td>0.026389</td>\n",
       "      <td>0.009028</td>\n",
       "      <td>0.000694</td>\n",
       "      <td>0.005556</td>\n",
       "      <td>0.004167</td>\n",
       "      <td>0.011806</td>\n",
       "      <td>0.008333</td>\n",
       "      <td>0.002083</td>\n",
       "      <td>0.003472</td>\n",
       "    </tr>\n",
       "  </tbody>\n",
       "</table>\n",
       "<p>2 rows × 4645 columns</p>\n",
       "</div>"
      ],
      "text/plain": [
       "            00       000        03        10       100      1000     100mg  \\\n",
       "ADHD                                                                         \n",
       "0.0   0.004538  0.002836  0.003403  0.041974  0.028361  0.001702  0.003403   \n",
       "1.0   0.006250  0.002778  0.004167  0.084028  0.021528  0.000694  0.001389   \n",
       "\n",
       "          10mg      10th       10x  ...     youtu   youtube     youve  \\\n",
       "ADHD                                ...                                 \n",
       "0.0   0.009643  0.000567  0.001702  ...  0.003403  0.010210  0.009643   \n",
       "1.0   0.027083  0.003472  0.002083  ...  0.004167  0.026389  0.009028   \n",
       "\n",
       "            yr      zero    zoloft    zombie      zone     zoned    zoning  \n",
       "ADHD                                                                        \n",
       "0.0   0.003403  0.005105  0.017016  0.003971  0.015315  0.000567  0.000000  \n",
       "1.0   0.000694  0.005556  0.004167  0.011806  0.008333  0.002083  0.003472  \n",
       "\n",
       "[2 rows x 4645 columns]"
      ]
     },
     "execution_count": 147,
     "metadata": {},
     "output_type": "execute_result"
    }
   ],
   "source": [
    "term_df.groupby('ADHD').mean()"
   ]
  },
  {
   "cell_type": "code",
   "execution_count": 148,
   "metadata": {},
   "outputs": [
    {
     "data": {
      "text/html": [
       "<div>\n",
       "<style scoped>\n",
       "    .dataframe tbody tr th:only-of-type {\n",
       "        vertical-align: middle;\n",
       "    }\n",
       "\n",
       "    .dataframe tbody tr th {\n",
       "        vertical-align: top;\n",
       "    }\n",
       "\n",
       "    .dataframe thead th {\n",
       "        text-align: right;\n",
       "    }\n",
       "</style>\n",
       "<table border=\"1\" class=\"dataframe\">\n",
       "  <thead>\n",
       "    <tr style=\"text-align: right;\">\n",
       "      <th></th>\n",
       "      <th>00</th>\n",
       "      <th>000</th>\n",
       "      <th>03</th>\n",
       "      <th>10</th>\n",
       "      <th>100</th>\n",
       "      <th>1000</th>\n",
       "      <th>100mg</th>\n",
       "      <th>10mg</th>\n",
       "      <th>10th</th>\n",
       "      <th>10x</th>\n",
       "      <th>...</th>\n",
       "      <th>youtu</th>\n",
       "      <th>youtube</th>\n",
       "      <th>youve</th>\n",
       "      <th>yr</th>\n",
       "      <th>zero</th>\n",
       "      <th>zoloft</th>\n",
       "      <th>zombie</th>\n",
       "      <th>zone</th>\n",
       "      <th>zoned</th>\n",
       "      <th>zoning</th>\n",
       "    </tr>\n",
       "    <tr>\n",
       "      <th>ADHD</th>\n",
       "      <th></th>\n",
       "      <th></th>\n",
       "      <th></th>\n",
       "      <th></th>\n",
       "      <th></th>\n",
       "      <th></th>\n",
       "      <th></th>\n",
       "      <th></th>\n",
       "      <th></th>\n",
       "      <th></th>\n",
       "      <th></th>\n",
       "      <th></th>\n",
       "      <th></th>\n",
       "      <th></th>\n",
       "      <th></th>\n",
       "      <th></th>\n",
       "      <th></th>\n",
       "      <th></th>\n",
       "      <th></th>\n",
       "      <th></th>\n",
       "      <th></th>\n",
       "    </tr>\n",
       "  </thead>\n",
       "  <tbody>\n",
       "    <tr>\n",
       "      <th>0.0</th>\n",
       "      <td>8</td>\n",
       "      <td>5</td>\n",
       "      <td>6</td>\n",
       "      <td>74</td>\n",
       "      <td>50</td>\n",
       "      <td>3</td>\n",
       "      <td>6</td>\n",
       "      <td>17</td>\n",
       "      <td>1</td>\n",
       "      <td>3</td>\n",
       "      <td>...</td>\n",
       "      <td>6</td>\n",
       "      <td>18</td>\n",
       "      <td>17</td>\n",
       "      <td>6</td>\n",
       "      <td>9</td>\n",
       "      <td>30</td>\n",
       "      <td>7</td>\n",
       "      <td>27</td>\n",
       "      <td>1</td>\n",
       "      <td>0</td>\n",
       "    </tr>\n",
       "    <tr>\n",
       "      <th>1.0</th>\n",
       "      <td>9</td>\n",
       "      <td>4</td>\n",
       "      <td>6</td>\n",
       "      <td>121</td>\n",
       "      <td>31</td>\n",
       "      <td>1</td>\n",
       "      <td>2</td>\n",
       "      <td>39</td>\n",
       "      <td>5</td>\n",
       "      <td>3</td>\n",
       "      <td>...</td>\n",
       "      <td>6</td>\n",
       "      <td>38</td>\n",
       "      <td>13</td>\n",
       "      <td>1</td>\n",
       "      <td>8</td>\n",
       "      <td>6</td>\n",
       "      <td>17</td>\n",
       "      <td>12</td>\n",
       "      <td>3</td>\n",
       "      <td>5</td>\n",
       "    </tr>\n",
       "  </tbody>\n",
       "</table>\n",
       "<p>2 rows × 4645 columns</p>\n",
       "</div>"
      ],
      "text/plain": [
       "      00  000  03   10  100  1000  100mg  10mg  10th  10x  ...  youtu  \\\n",
       "ADHD                                                       ...          \n",
       "0.0    8    5   6   74   50     3      6    17     1    3  ...      6   \n",
       "1.0    9    4   6  121   31     1      2    39     5    3  ...      6   \n",
       "\n",
       "      youtube  youve  yr  zero  zoloft  zombie  zone  zoned  zoning  \n",
       "ADHD                                                                 \n",
       "0.0        18     17   6     9      30       7    27      1       0  \n",
       "1.0        38     13   1     8       6      17    12      3       5  \n",
       "\n",
       "[2 rows x 4645 columns]"
      ]
     },
     "execution_count": 148,
     "metadata": {},
     "output_type": "execute_result"
    }
   ],
   "source": [
    "term_df.groupby('ADHD').sum()"
   ]
  },
  {
   "cell_type": "markdown",
   "metadata": {},
   "source": [
    "The above outputs are not easy on the eyes, but by transposing them and sorting by one of our groups, we can more easily see what are the most used words."
   ]
  },
  {
   "cell_type": "code",
   "execution_count": 154,
   "metadata": {},
   "outputs": [
    {
     "data": {
      "text/html": [
       "<div>\n",
       "<style scoped>\n",
       "    .dataframe tbody tr th:only-of-type {\n",
       "        vertical-align: middle;\n",
       "    }\n",
       "\n",
       "    .dataframe tbody tr th {\n",
       "        vertical-align: top;\n",
       "    }\n",
       "\n",
       "    .dataframe thead th {\n",
       "        text-align: right;\n",
       "    }\n",
       "</style>\n",
       "<table border=\"1\" class=\"dataframe\">\n",
       "  <thead>\n",
       "    <tr style=\"text-align: right;\">\n",
       "      <th>ADHD</th>\n",
       "      <th>0.0</th>\n",
       "      <th>1.0</th>\n",
       "    </tr>\n",
       "  </thead>\n",
       "  <tbody>\n",
       "    <tr>\n",
       "      <th>time</th>\n",
       "      <td>0.639251</td>\n",
       "      <td>0.607639</td>\n",
       "    </tr>\n",
       "    <tr>\n",
       "      <th>feel</th>\n",
       "      <td>0.918321</td>\n",
       "      <td>0.552083</td>\n",
       "    </tr>\n",
       "    <tr>\n",
       "      <th>know</th>\n",
       "      <td>0.702212</td>\n",
       "      <td>0.538194</td>\n",
       "    </tr>\n",
       "    <tr>\n",
       "      <th>work</th>\n",
       "      <td>0.395916</td>\n",
       "      <td>0.444444</td>\n",
       "    </tr>\n",
       "    <tr>\n",
       "      <th>things</th>\n",
       "      <td>0.364152</td>\n",
       "      <td>0.419444</td>\n",
       "    </tr>\n",
       "    <tr>\n",
       "      <th>day</th>\n",
       "      <td>0.374362</td>\n",
       "      <td>0.376389</td>\n",
       "    </tr>\n",
       "    <tr>\n",
       "      <th>want</th>\n",
       "      <td>0.483834</td>\n",
       "      <td>0.323611</td>\n",
       "    </tr>\n",
       "    <tr>\n",
       "      <th>life</th>\n",
       "      <td>0.375496</td>\n",
       "      <td>0.318056</td>\n",
       "    </tr>\n",
       "    <tr>\n",
       "      <th>people</th>\n",
       "      <td>0.462280</td>\n",
       "      <td>0.305556</td>\n",
       "    </tr>\n",
       "    <tr>\n",
       "      <th>going</th>\n",
       "      <td>0.448100</td>\n",
       "      <td>0.276389</td>\n",
       "    </tr>\n",
       "    <tr>\n",
       "      <th>got</th>\n",
       "      <td>0.301758</td>\n",
       "      <td>0.272917</td>\n",
       "    </tr>\n",
       "    <tr>\n",
       "      <th>school</th>\n",
       "      <td>0.228020</td>\n",
       "      <td>0.269444</td>\n",
       "    </tr>\n",
       "    <tr>\n",
       "      <th>think</th>\n",
       "      <td>0.361883</td>\n",
       "      <td>0.261111</td>\n",
       "    </tr>\n",
       "    <tr>\n",
       "      <th>medication</th>\n",
       "      <td>0.115712</td>\n",
       "      <td>0.254167</td>\n",
       "    </tr>\n",
       "    <tr>\n",
       "      <th>need</th>\n",
       "      <td>0.256948</td>\n",
       "      <td>0.249306</td>\n",
       "    </tr>\n",
       "    <tr>\n",
       "      <th>help</th>\n",
       "      <td>0.323880</td>\n",
       "      <td>0.245139</td>\n",
       "    </tr>\n",
       "    <tr>\n",
       "      <th>meds</th>\n",
       "      <td>0.083381</td>\n",
       "      <td>0.240278</td>\n",
       "    </tr>\n",
       "    <tr>\n",
       "      <th>doing</th>\n",
       "      <td>0.195122</td>\n",
       "      <td>0.236111</td>\n",
       "    </tr>\n",
       "    <tr>\n",
       "      <th>getting</th>\n",
       "      <td>0.222915</td>\n",
       "      <td>0.232639</td>\n",
       "    </tr>\n",
       "    <tr>\n",
       "      <th>way</th>\n",
       "      <td>0.254112</td>\n",
       "      <td>0.228472</td>\n",
       "    </tr>\n",
       "  </tbody>\n",
       "</table>\n",
       "</div>"
      ],
      "text/plain": [
       "ADHD             0.0       1.0\n",
       "time        0.639251  0.607639\n",
       "feel        0.918321  0.552083\n",
       "know        0.702212  0.538194\n",
       "work        0.395916  0.444444\n",
       "things      0.364152  0.419444\n",
       "day         0.374362  0.376389\n",
       "want        0.483834  0.323611\n",
       "life        0.375496  0.318056\n",
       "people      0.462280  0.305556\n",
       "going       0.448100  0.276389\n",
       "got         0.301758  0.272917\n",
       "school      0.228020  0.269444\n",
       "think       0.361883  0.261111\n",
       "medication  0.115712  0.254167\n",
       "need        0.256948  0.249306\n",
       "help        0.323880  0.245139\n",
       "meds        0.083381  0.240278\n",
       "doing       0.195122  0.236111\n",
       "getting     0.222915  0.232639\n",
       "way         0.254112  0.228472"
      ]
     },
     "execution_count": 154,
     "metadata": {},
     "output_type": "execute_result"
    }
   ],
   "source": [
    "term_df.groupby('ADHD').mean().T.sort_values(1, ascending=False).head(20)"
   ]
  },
  {
   "cell_type": "code",
   "execution_count": 150,
   "metadata": {},
   "outputs": [
    {
     "data": {
      "text/html": [
       "<div>\n",
       "<style scoped>\n",
       "    .dataframe tbody tr th:only-of-type {\n",
       "        vertical-align: middle;\n",
       "    }\n",
       "\n",
       "    .dataframe tbody tr th {\n",
       "        vertical-align: top;\n",
       "    }\n",
       "\n",
       "    .dataframe thead th {\n",
       "        text-align: right;\n",
       "    }\n",
       "</style>\n",
       "<table border=\"1\" class=\"dataframe\">\n",
       "  <thead>\n",
       "    <tr style=\"text-align: right;\">\n",
       "      <th>ADHD</th>\n",
       "      <th>0.0</th>\n",
       "      <th>1.0</th>\n",
       "    </tr>\n",
       "  </thead>\n",
       "  <tbody>\n",
       "    <tr>\n",
       "      <th>time</th>\n",
       "      <td>1127</td>\n",
       "      <td>875</td>\n",
       "    </tr>\n",
       "    <tr>\n",
       "      <th>feel</th>\n",
       "      <td>1619</td>\n",
       "      <td>795</td>\n",
       "    </tr>\n",
       "    <tr>\n",
       "      <th>know</th>\n",
       "      <td>1238</td>\n",
       "      <td>775</td>\n",
       "    </tr>\n",
       "    <tr>\n",
       "      <th>work</th>\n",
       "      <td>698</td>\n",
       "      <td>640</td>\n",
       "    </tr>\n",
       "    <tr>\n",
       "      <th>things</th>\n",
       "      <td>642</td>\n",
       "      <td>604</td>\n",
       "    </tr>\n",
       "    <tr>\n",
       "      <th>day</th>\n",
       "      <td>660</td>\n",
       "      <td>542</td>\n",
       "    </tr>\n",
       "    <tr>\n",
       "      <th>want</th>\n",
       "      <td>853</td>\n",
       "      <td>466</td>\n",
       "    </tr>\n",
       "    <tr>\n",
       "      <th>life</th>\n",
       "      <td>662</td>\n",
       "      <td>458</td>\n",
       "    </tr>\n",
       "    <tr>\n",
       "      <th>people</th>\n",
       "      <td>815</td>\n",
       "      <td>440</td>\n",
       "    </tr>\n",
       "    <tr>\n",
       "      <th>going</th>\n",
       "      <td>790</td>\n",
       "      <td>398</td>\n",
       "    </tr>\n",
       "    <tr>\n",
       "      <th>got</th>\n",
       "      <td>532</td>\n",
       "      <td>393</td>\n",
       "    </tr>\n",
       "    <tr>\n",
       "      <th>school</th>\n",
       "      <td>402</td>\n",
       "      <td>388</td>\n",
       "    </tr>\n",
       "    <tr>\n",
       "      <th>think</th>\n",
       "      <td>638</td>\n",
       "      <td>376</td>\n",
       "    </tr>\n",
       "    <tr>\n",
       "      <th>medication</th>\n",
       "      <td>204</td>\n",
       "      <td>366</td>\n",
       "    </tr>\n",
       "    <tr>\n",
       "      <th>need</th>\n",
       "      <td>453</td>\n",
       "      <td>359</td>\n",
       "    </tr>\n",
       "    <tr>\n",
       "      <th>help</th>\n",
       "      <td>571</td>\n",
       "      <td>353</td>\n",
       "    </tr>\n",
       "    <tr>\n",
       "      <th>meds</th>\n",
       "      <td>147</td>\n",
       "      <td>346</td>\n",
       "    </tr>\n",
       "    <tr>\n",
       "      <th>doing</th>\n",
       "      <td>344</td>\n",
       "      <td>340</td>\n",
       "    </tr>\n",
       "    <tr>\n",
       "      <th>getting</th>\n",
       "      <td>393</td>\n",
       "      <td>335</td>\n",
       "    </tr>\n",
       "    <tr>\n",
       "      <th>way</th>\n",
       "      <td>448</td>\n",
       "      <td>329</td>\n",
       "    </tr>\n",
       "  </tbody>\n",
       "</table>\n",
       "</div>"
      ],
      "text/plain": [
       "ADHD         0.0  1.0\n",
       "time        1127  875\n",
       "feel        1619  795\n",
       "know        1238  775\n",
       "work         698  640\n",
       "things       642  604\n",
       "day          660  542\n",
       "want         853  466\n",
       "life         662  458\n",
       "people       815  440\n",
       "going        790  398\n",
       "got          532  393\n",
       "school       402  388\n",
       "think        638  376\n",
       "medication   204  366\n",
       "need         453  359\n",
       "help         571  353\n",
       "meds         147  346\n",
       "doing        344  340\n",
       "getting      393  335\n",
       "way          448  329"
      ]
     },
     "execution_count": 150,
     "metadata": {},
     "output_type": "execute_result"
    }
   ],
   "source": [
    "term_df.groupby('ADHD').sum().T.sort_values(1, ascending=False).head(20)"
   ]
  },
  {
   "cell_type": "markdown",
   "metadata": {},
   "source": [
    "It's no surprise that the most frequently used word is 'time,' since time management is one of the biggest struggles for those with ADHD. It seems as though there may be quite a bit of overlap, but let's grab the top 20 terms in each subreddit and systematically look at the overlapping words."
   ]
  },
  {
   "cell_type": "code",
   "execution_count": 151,
   "metadata": {},
   "outputs": [],
   "source": [
    "top_words_anxiety = list(term_df.groupby('ADHD').mean().T.sort_values(0, ascending=False).head(20).index)\n",
    "\n",
    "top_words_adhd = list(term_df.groupby('ADHD').mean().T.sort_values(1, ascending=False).head(20).index)"
   ]
  },
  {
   "cell_type": "code",
   "execution_count": 152,
   "metadata": {},
   "outputs": [],
   "source": [
    "top_words_overlap = [word for word in top_words_adhd if word in top_words_anxiety]"
   ]
  },
  {
   "cell_type": "code",
   "execution_count": 153,
   "metadata": {},
   "outputs": [
    {
     "data": {
      "text/plain": [
       "['time',\n",
       " 'feel',\n",
       " 'know',\n",
       " 'work',\n",
       " 'things',\n",
       " 'day',\n",
       " 'want',\n",
       " 'life',\n",
       " 'people',\n",
       " 'going',\n",
       " 'got',\n",
       " 'think',\n",
       " 'need',\n",
       " 'help']"
      ]
     },
     "execution_count": 153,
     "metadata": {},
     "output_type": "execute_result"
    }
   ],
   "source": [
    "top_words_overlap"
   ]
  },
  {
   "cell_type": "markdown",
   "metadata": {},
   "source": [
    "We can see that 14 out of the top 20 words for each subreddit overlap with one another, which lends credence to my problem statement and the issues regarding misdiagnosis. In my next notebook, I'll be diving into some more advanced modeling with logistic regression and random forests."
   ]
  }
 ],
 "metadata": {
  "kernelspec": {
   "display_name": "Python 3",
   "language": "python",
   "name": "python3"
  },
  "language_info": {
   "codemirror_mode": {
    "name": "ipython",
    "version": 3
   },
   "file_extension": ".py",
   "mimetype": "text/x-python",
   "name": "python",
   "nbconvert_exporter": "python",
   "pygments_lexer": "ipython3",
   "version": "3.7.2"
  }
 },
 "nbformat": 4,
 "nbformat_minor": 2
}
